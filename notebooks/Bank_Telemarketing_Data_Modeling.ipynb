{
 "cells": [
  {
   "cell_type": "markdown",
   "id": "a74b8dc2",
   "metadata": {},
   "source": [
    "# Bank Telemarketing Project - Preprocessing and Modeling\n",
    "***"
   ]
  },
  {
   "cell_type": "markdown",
   "id": "0cf4186a",
   "metadata": {},
   "source": [
    "## Contents<a id='Table of Contents'></a>\n",
    "\n",
    "- [Imports](#Imports)\n",
    "- [Load The Bank Data](#Load_The_Bank_Data)\n",
    "- [Preprocessing](#Preprocessing)\n",
    "  - [Log Transform Balance Data](#Log_Transform_Balance_Data)\n",
    "  - [Delete Repetitive Features](#Delete_Repetitive_Features)\n",
    "  - [Transform Categorical Features](#Transform_Categorical_Features)\n",
    "  - [Replace 'pdays' Negative Values](#Replace_pdays_Negative_Values)\n",
    "\n",
    "- [Train/Test Split](#Train_Test_Split)\n",
    "- [Logistic Regression Model](#Logistic_Regression_Model)\n",
    "  - [Scale The Data](<#Scale_The_Data)\n",
    "  - [With All Features](#With_All_Featuresa)\n",
    "  - [Feature Selection](#Feature_Selection)\n",
    "  - [With Five Features](#With_Five_Featuresa)\n",
    "  - [With Ten Features](#With_Ten_Featuresa)\n",
    "\n",
    "- [Random Forest Model](#Random_Forest_Model)\n",
    "  - [With All Features](#With_All_Featuresa_RF)\n",
    "  - [Feature Selection](#Feature_Selection_RF)\n",
    "  - [With Five Features](#With_Five_Featuresa_RF)\n",
    "  - [With Ten Features](#With_Ten_Featuresa_RF)\n",
    "\n",
    "- [Gradient Boosting Model](#Gradient_Boosting_Model)\n",
    "  - [With All Features](#With_All_Featuresa_GB)\n",
    "  - [Feature Selection](#Feature_Selection_GB)\n",
    "  - [With Five Features](#With_Five_Featuresa_GB)\n",
    "  - [With Ten Features](#With_Ten_Featuresa_GB)\n",
    "\n",
    "- [ROC Curve](#ROC_Curve)\n",
    "- [Threshold For Profitability](#Threshold_For_Profitability)\n",
    "  - [Obtain Revenue Per Subscription](#Obtain_Revenue_Per_Subscription)\n",
    "  - [Calculate Cost Per Subscription](#Calculate_Cost_Per_Subscription)\n",
    "  - [Calculate Profitability Vs. Threshold](#Calculate_Profitability_Threshold)\n",
    "\n",
    "- [Test Data](#Test_Data)\n",
    "  - [Calcuate ROC AUC Score](#Calcuate_ROC_AUC_Score)\n",
    "  - [Classification Report](#Classification_Report)\n",
    "  - [Confusion Matrix](#Confusion_Matrix)\n",
    "\n",
    "- [Modeling Scenarios](#Modeling_Scenarios)\n",
    "  - [GB Model](#GB_Model)\n",
    "  - [Scenario 1](#Scenario_1)\n",
    "  - [Scenario 2](#Scenario_2)\n",
    "  - [Scenario 3](#Scenario_3)\n",
    "\n",
    "- [Plot and Summary](#Plot_and_Summary)\n",
    "- [Future Work](#Future_Work)\n",
    "\n"
   ]
  },
  {
   "cell_type": "markdown",
   "id": "7d02b5ac",
   "metadata": {},
   "source": [
    "### Imports<a id='Imports'></a>\n",
    "***"
   ]
  },
  {
   "cell_type": "code",
   "execution_count": 44,
   "id": "bd615f3d",
   "metadata": {},
   "outputs": [],
   "source": [
    "%matplotlib inline\n",
    "\n",
    "import numpy as np\n",
    "import scipy as sp\n",
    "import pandas as pd\n",
    "\n",
    "import matplotlib as mpl\n",
    "import matplotlib.cm as cm\n",
    "import matplotlib.pyplot as plt\n",
    "import seaborn as sns\n",
    "\n",
    "from sklearn import preprocessing\n",
    "import sklearn.model_selection\n",
    "from sklearn.model_selection import train_test_split\n",
    "from sklearn.model_selection import KFold\n",
    "from sklearn.model_selection import GridSearchCV\n",
    "from sklearn.model_selection import train_test_split\n",
    "from sklearn.linear_model import LogisticRegression\n",
    "from sklearn.ensemble import RandomForestClassifier\n",
    "from sklearn.ensemble import GradientBoostingClassifier\n",
    "\n",
    "from sklearn.metrics import accuracy_score, f1_score\n",
    "from sklearn.metrics import classification_report\n",
    "from sklearn.metrics import confusion_matrix\n",
    "from sklearn.metrics import ConfusionMatrixDisplay\n",
    "from sklearn.metrics import precision_recall_curve\n",
    "from sklearn.metrics import auc\n",
    "from sklearn.metrics import roc_curve,roc_auc_score\n",
    "\n",
    "import warnings\n",
    "warnings.filterwarnings('ignore')"
   ]
  },
  {
   "cell_type": "markdown",
   "id": "b7a36280",
   "metadata": {},
   "source": [
    "### Load The Bank Data<a id='Load_The_Bank_Data'></a>\n",
    "***"
   ]
  },
  {
   "cell_type": "code",
   "execution_count": 6,
   "id": "841b3c89",
   "metadata": {},
   "outputs": [],
   "source": [
    "bank_cleaned2 = pd.read_csv('../data/bank_cleaned2.csv', index_col=0)"
   ]
  },
  {
   "cell_type": "code",
   "execution_count": 7,
   "id": "33781988",
   "metadata": {
    "scrolled": true
   },
   "outputs": [
    {
     "data": {
      "text/html": [
       "<div>\n",
       "<style scoped>\n",
       "    .dataframe tbody tr th:only-of-type {\n",
       "        vertical-align: middle;\n",
       "    }\n",
       "\n",
       "    .dataframe tbody tr th {\n",
       "        vertical-align: top;\n",
       "    }\n",
       "\n",
       "    .dataframe thead th {\n",
       "        text-align: right;\n",
       "    }\n",
       "</style>\n",
       "<table border=\"1\" class=\"dataframe\">\n",
       "  <thead>\n",
       "    <tr style=\"text-align: right;\">\n",
       "      <th></th>\n",
       "      <th>age</th>\n",
       "      <th>job</th>\n",
       "      <th>marital</th>\n",
       "      <th>education</th>\n",
       "      <th>credits</th>\n",
       "      <th>balance</th>\n",
       "      <th>housing</th>\n",
       "      <th>loan</th>\n",
       "      <th>contact_type</th>\n",
       "      <th>day</th>\n",
       "      <th>...</th>\n",
       "      <th>campaign</th>\n",
       "      <th>pdays</th>\n",
       "      <th>previous</th>\n",
       "      <th>poutcome</th>\n",
       "      <th>subscription</th>\n",
       "      <th>month_num</th>\n",
       "      <th>balance_group</th>\n",
       "      <th>campaign_contact_number</th>\n",
       "      <th>pdays_group</th>\n",
       "      <th>age_group</th>\n",
       "    </tr>\n",
       "  </thead>\n",
       "  <tbody>\n",
       "    <tr>\n",
       "      <th>0</th>\n",
       "      <td>95</td>\n",
       "      <td>retired</td>\n",
       "      <td>married</td>\n",
       "      <td>secondary</td>\n",
       "      <td>no</td>\n",
       "      <td>0</td>\n",
       "      <td>no</td>\n",
       "      <td>no</td>\n",
       "      <td>telephone</td>\n",
       "      <td>1</td>\n",
       "      <td>...</td>\n",
       "      <td>1</td>\n",
       "      <td>-1</td>\n",
       "      <td>0</td>\n",
       "      <td>2</td>\n",
       "      <td>0</td>\n",
       "      <td>10</td>\n",
       "      <td>no_balance</td>\n",
       "      <td>NaN</td>\n",
       "      <td>NaN</td>\n",
       "      <td>&gt;60</td>\n",
       "    </tr>\n",
       "    <tr>\n",
       "      <th>1</th>\n",
       "      <td>95</td>\n",
       "      <td>retired</td>\n",
       "      <td>divorced</td>\n",
       "      <td>primary</td>\n",
       "      <td>no</td>\n",
       "      <td>2282</td>\n",
       "      <td>no</td>\n",
       "      <td>no</td>\n",
       "      <td>telephone</td>\n",
       "      <td>21</td>\n",
       "      <td>...</td>\n",
       "      <td>17</td>\n",
       "      <td>-1</td>\n",
       "      <td>0</td>\n",
       "      <td>2</td>\n",
       "      <td>1</td>\n",
       "      <td>4</td>\n",
       "      <td>high_balance</td>\n",
       "      <td>&gt;6</td>\n",
       "      <td>NaN</td>\n",
       "      <td>&gt;60</td>\n",
       "    </tr>\n",
       "    <tr>\n",
       "      <th>2</th>\n",
       "      <td>94</td>\n",
       "      <td>retired</td>\n",
       "      <td>divorced</td>\n",
       "      <td>secondary</td>\n",
       "      <td>no</td>\n",
       "      <td>1234</td>\n",
       "      <td>no</td>\n",
       "      <td>no</td>\n",
       "      <td>cellular</td>\n",
       "      <td>3</td>\n",
       "      <td>...</td>\n",
       "      <td>1</td>\n",
       "      <td>-1</td>\n",
       "      <td>0</td>\n",
       "      <td>2</td>\n",
       "      <td>0</td>\n",
       "      <td>3</td>\n",
       "      <td>average_balance</td>\n",
       "      <td>NaN</td>\n",
       "      <td>NaN</td>\n",
       "      <td>&gt;60</td>\n",
       "    </tr>\n",
       "    <tr>\n",
       "      <th>3</th>\n",
       "      <td>93</td>\n",
       "      <td>retired</td>\n",
       "      <td>married</td>\n",
       "      <td>unknown</td>\n",
       "      <td>no</td>\n",
       "      <td>775</td>\n",
       "      <td>no</td>\n",
       "      <td>no</td>\n",
       "      <td>cellular</td>\n",
       "      <td>4</td>\n",
       "      <td>...</td>\n",
       "      <td>2</td>\n",
       "      <td>13</td>\n",
       "      <td>9</td>\n",
       "      <td>1</td>\n",
       "      <td>1</td>\n",
       "      <td>8</td>\n",
       "      <td>average_balance</td>\n",
       "      <td>1</td>\n",
       "      <td>1-4months</td>\n",
       "      <td>&gt;60</td>\n",
       "    </tr>\n",
       "    <tr>\n",
       "      <th>4</th>\n",
       "      <td>93</td>\n",
       "      <td>retired</td>\n",
       "      <td>married</td>\n",
       "      <td>unknown</td>\n",
       "      <td>no</td>\n",
       "      <td>775</td>\n",
       "      <td>no</td>\n",
       "      <td>no</td>\n",
       "      <td>cellular</td>\n",
       "      <td>22</td>\n",
       "      <td>...</td>\n",
       "      <td>2</td>\n",
       "      <td>177</td>\n",
       "      <td>7</td>\n",
       "      <td>1</td>\n",
       "      <td>1</td>\n",
       "      <td>7</td>\n",
       "      <td>average_balance</td>\n",
       "      <td>1</td>\n",
       "      <td>4-7months</td>\n",
       "      <td>&gt;60</td>\n",
       "    </tr>\n",
       "  </tbody>\n",
       "</table>\n",
       "<p>5 rows × 21 columns</p>\n",
       "</div>"
      ],
      "text/plain": [
       "   age      job   marital  education credits  balance housing loan  \\\n",
       "0   95  retired   married  secondary      no        0      no   no   \n",
       "1   95  retired  divorced    primary      no     2282      no   no   \n",
       "2   94  retired  divorced  secondary      no     1234      no   no   \n",
       "3   93  retired   married    unknown      no      775      no   no   \n",
       "4   93  retired   married    unknown      no      775      no   no   \n",
       "\n",
       "  contact_type  day  ...  campaign  pdays  previous  poutcome  subscription  \\\n",
       "0    telephone    1  ...         1     -1         0         2             0   \n",
       "1    telephone   21  ...        17     -1         0         2             1   \n",
       "2     cellular    3  ...         1     -1         0         2             0   \n",
       "3     cellular    4  ...         2     13         9         1             1   \n",
       "4     cellular   22  ...         2    177         7         1             1   \n",
       "\n",
       "   month_num    balance_group campaign_contact_number pdays_group age_group  \n",
       "0         10       no_balance                     NaN         NaN       >60  \n",
       "1          4     high_balance                      >6         NaN       >60  \n",
       "2          3  average_balance                     NaN         NaN       >60  \n",
       "3          8  average_balance                       1   1-4months       >60  \n",
       "4          7  average_balance                       1   4-7months       >60  \n",
       "\n",
       "[5 rows x 21 columns]"
      ]
     },
     "execution_count": 7,
     "metadata": {},
     "output_type": "execute_result"
    }
   ],
   "source": [
    "bank_cleaned2.head()"
   ]
  },
  {
   "cell_type": "code",
   "execution_count": 8,
   "id": "62001952",
   "metadata": {},
   "outputs": [
    {
     "name": "stdout",
     "output_type": "stream",
     "text": [
      "<class 'pandas.core.frame.DataFrame'>\n",
      "Int64Index: 45210 entries, 0 to 45210\n",
      "Data columns (total 21 columns):\n",
      " #   Column                   Non-Null Count  Dtype \n",
      "---  ------                   --------------  ----- \n",
      " 0   age                      45210 non-null  int64 \n",
      " 1   job                      45210 non-null  object\n",
      " 2   marital                  45210 non-null  object\n",
      " 3   education                45210 non-null  object\n",
      " 4   credits                  45210 non-null  object\n",
      " 5   balance                  45210 non-null  int64 \n",
      " 6   housing                  45210 non-null  object\n",
      " 7   loan                     45210 non-null  object\n",
      " 8   contact_type             45210 non-null  object\n",
      " 9   day                      45210 non-null  int64 \n",
      " 10  duration                 45210 non-null  int64 \n",
      " 11  campaign                 45210 non-null  int64 \n",
      " 12  pdays                    45210 non-null  int64 \n",
      " 13  previous                 45210 non-null  int64 \n",
      " 14  poutcome                 45210 non-null  int64 \n",
      " 15  subscription             45210 non-null  int64 \n",
      " 16  month_num                45210 non-null  int64 \n",
      " 17  balance_group            45210 non-null  object\n",
      " 18  campaign_contact_number  27666 non-null  object\n",
      " 19  pdays_group              8241 non-null   object\n",
      " 20  age_group                45210 non-null  object\n",
      "dtypes: int64(10), object(11)\n",
      "memory usage: 7.6+ MB\n"
     ]
    }
   ],
   "source": [
    "bank_cleaned2.info()"
   ]
  },
  {
   "cell_type": "markdown",
   "id": "fcfb676f",
   "metadata": {},
   "source": [
    "### Preprocessing<a id='Preprocessing'></a>"
   ]
  },
  {
   "cell_type": "markdown",
   "id": "5e597f46",
   "metadata": {},
   "source": [
    "#### Log Transform Balance Data<a id='Log_Transform_Balance_Data'></a>\n",
    "Since balance data is very skewed, I decided to do the log transformation to see if the linearity can be improved."
   ]
  },
  {
   "cell_type": "code",
   "execution_count": 9,
   "id": "0f178ba5",
   "metadata": {},
   "outputs": [
    {
     "data": {
      "text/plain": [
       "count     45210.000000\n",
       "mean       1362.290179\n",
       "std        3044.797065\n",
       "min       -8019.000000\n",
       "25%          72.000000\n",
       "50%         448.000000\n",
       "75%        1428.000000\n",
       "max      102127.000000\n",
       "Name: balance, dtype: float64"
      ]
     },
     "execution_count": 9,
     "metadata": {},
     "output_type": "execute_result"
    }
   ],
   "source": [
    "#Use the data to prepare for the bins\n",
    "bank_cleaned2['balance'].describe()"
   ]
  },
  {
   "cell_type": "code",
   "execution_count": 10,
   "id": "1a142c33",
   "metadata": {},
   "outputs": [
    {
     "data": {
      "text/plain": [
       "low_balance        26165\n",
       "average_balance     8309\n",
       "no_balance          7280\n",
       "high_balance        3456\n",
       "Name: balance_group, dtype: int64"
      ]
     },
     "execution_count": 10,
     "metadata": {},
     "output_type": "execute_result"
    }
   ],
   "source": [
    "#Put the balance data into five bins and calcuate counts for each bin\n",
    "bins = [-1000000000, 0, 1358, 4400, 102127]\n",
    "category = ['no_balance', 'low_balance', 'average_balance','high_balance']\n",
    "bank_cleaned2['balance_group'] = pd.cut(bank_cleaned2['balance'], bins, labels = category)\n",
    "bank_cleaned2['balance_group'].value_counts()\n"
   ]
  },
  {
   "cell_type": "code",
   "execution_count": 11,
   "id": "e9f514f6",
   "metadata": {},
   "outputs": [
    {
     "data": {
      "text/html": [
       "<div>\n",
       "<style scoped>\n",
       "    .dataframe tbody tr th:only-of-type {\n",
       "        vertical-align: middle;\n",
       "    }\n",
       "\n",
       "    .dataframe tbody tr th {\n",
       "        vertical-align: top;\n",
       "    }\n",
       "\n",
       "    .dataframe thead th {\n",
       "        text-align: right;\n",
       "    }\n",
       "</style>\n",
       "<table border=\"1\" class=\"dataframe\">\n",
       "  <thead>\n",
       "    <tr style=\"text-align: right;\">\n",
       "      <th></th>\n",
       "      <th>No</th>\n",
       "      <th>Yes</th>\n",
       "    </tr>\n",
       "    <tr>\n",
       "      <th>balance_group</th>\n",
       "      <th></th>\n",
       "      <th></th>\n",
       "    </tr>\n",
       "  </thead>\n",
       "  <tbody>\n",
       "    <tr>\n",
       "      <th>no_balance</th>\n",
       "      <td>0.931044</td>\n",
       "      <td>0.068956</td>\n",
       "    </tr>\n",
       "    <tr>\n",
       "      <th>low_balance</th>\n",
       "      <td>0.888897</td>\n",
       "      <td>0.111103</td>\n",
       "    </tr>\n",
       "    <tr>\n",
       "      <th>average_balance</th>\n",
       "      <td>0.839210</td>\n",
       "      <td>0.160790</td>\n",
       "    </tr>\n",
       "    <tr>\n",
       "      <th>high_balance</th>\n",
       "      <td>0.842593</td>\n",
       "      <td>0.157407</td>\n",
       "    </tr>\n",
       "  </tbody>\n",
       "</table>\n",
       "</div>"
      ],
      "text/plain": [
       "                       No       Yes\n",
       "balance_group                      \n",
       "no_balance       0.931044  0.068956\n",
       "low_balance      0.888897  0.111103\n",
       "average_balance  0.839210  0.160790\n",
       "high_balance     0.842593  0.157407"
      ]
     },
     "execution_count": 11,
     "metadata": {},
     "output_type": "execute_result"
    }
   ],
   "source": [
    "#Calculate the subscription rate within each group\n",
    "\n",
    "b_subscription_rate = pd.crosstab(bank_cleaned2.balance_group,bank_cleaned2.subscription).apply(lambda row: row/row.sum(), axis=1)\n",
    "b_subscription_rate.columns = ['No', 'Yes']\n",
    "b_subscription_rate\n"
   ]
  },
  {
   "cell_type": "code",
   "execution_count": 12,
   "id": "3d30af29",
   "metadata": {},
   "outputs": [
    {
     "data": {
      "image/png": "[encoded data removed]",
      "text/plain": [
       "<Figure size 640x480 with 1 Axes>"
      ]
     },
     "metadata": {},
     "output_type": "display_data"
    }
   ],
   "source": [
    "#plot the dataframe\n",
    "\n",
    "plt.plot(b_subscription_rate['Yes'])\n",
    "plt.xticks(rotation='vertical')\n",
    "\n",
    "plt.show()"
   ]
  },
  {
   "cell_type": "code",
   "execution_count": 13,
   "id": "5781b6df",
   "metadata": {},
   "outputs": [],
   "source": [
    "#Make log transformation on balance\n",
    "def make_log_balance(num):\n",
    "    if num == 0:\n",
    "        return 0\n",
    "    elif num < 0:\n",
    "        return -np.log(abs(num))\n",
    "    else:\n",
    "        return np.log(num)"
   ]
  },
  {
   "cell_type": "code",
   "execution_count": 14,
   "id": "61bdb7e8",
   "metadata": {},
   "outputs": [
    {
     "data": {
      "text/html": [
       "<div>\n",
       "<style scoped>\n",
       "    .dataframe tbody tr th:only-of-type {\n",
       "        vertical-align: middle;\n",
       "    }\n",
       "\n",
       "    .dataframe tbody tr th {\n",
       "        vertical-align: top;\n",
       "    }\n",
       "\n",
       "    .dataframe thead th {\n",
       "        text-align: right;\n",
       "    }\n",
       "</style>\n",
       "<table border=\"1\" class=\"dataframe\">\n",
       "  <thead>\n",
       "    <tr style=\"text-align: right;\">\n",
       "      <th></th>\n",
       "      <th>balance_log</th>\n",
       "      <th>balance</th>\n",
       "    </tr>\n",
       "  </thead>\n",
       "  <tbody>\n",
       "    <tr>\n",
       "      <th>0</th>\n",
       "      <td>0.000000</td>\n",
       "      <td>0</td>\n",
       "    </tr>\n",
       "    <tr>\n",
       "      <th>1</th>\n",
       "      <td>7.732808</td>\n",
       "      <td>2282</td>\n",
       "    </tr>\n",
       "    <tr>\n",
       "      <th>2</th>\n",
       "      <td>7.118016</td>\n",
       "      <td>1234</td>\n",
       "    </tr>\n",
       "    <tr>\n",
       "      <th>3</th>\n",
       "      <td>6.652863</td>\n",
       "      <td>775</td>\n",
       "    </tr>\n",
       "    <tr>\n",
       "      <th>4</th>\n",
       "      <td>6.652863</td>\n",
       "      <td>775</td>\n",
       "    </tr>\n",
       "  </tbody>\n",
       "</table>\n",
       "</div>"
      ],
      "text/plain": [
       "   balance_log  balance\n",
       "0     0.000000        0\n",
       "1     7.732808     2282\n",
       "2     7.118016     1234\n",
       "3     6.652863      775\n",
       "4     6.652863      775"
      ]
     },
     "execution_count": 14,
     "metadata": {},
     "output_type": "execute_result"
    }
   ],
   "source": [
    "#Compare balance_log and balance\n",
    "bank_cleaned2['balance_log'] = bank_cleaned2['balance'].apply(make_log_balance)\n",
    "bank_balance_log= bank_cleaned2[['balance_log','balance']]\n",
    "bank_balance_log.head()\n",
    "#bank_cleaned2['natural_log'].value_counts()"
   ]
  },
  {
   "cell_type": "code",
   "execution_count": 15,
   "id": "14dd3596",
   "metadata": {},
   "outputs": [
    {
     "data": {
      "text/plain": [
       "count    45210.000000\n",
       "mean         4.877992\n",
       "std          3.812037\n",
       "min         -8.989569\n",
       "25%          4.276666\n",
       "50%          6.104793\n",
       "75%          7.264030\n",
       "max         11.533972\n",
       "Name: balance_log, dtype: float64"
      ]
     },
     "execution_count": 15,
     "metadata": {},
     "output_type": "execute_result"
    }
   ],
   "source": [
    "bank_cleaned2['balance_log'].describe()"
   ]
  },
  {
   "cell_type": "code",
   "execution_count": 16,
   "id": "3775b16c",
   "metadata": {},
   "outputs": [],
   "source": [
    "#Put balance_log into bins\n",
    "bins_log = [-100000000, 0, 4.87, 8.6, 12]\n",
    "category_log = ['no_balance', 'low_balance', 'average_balance','high_balance']\n",
    "bank_cleaned2['balance_group_log'] = pd.cut(bank_cleaned2['balance_log'], bins_log, labels = category_log)\n"
   ]
  },
  {
   "cell_type": "code",
   "execution_count": 17,
   "id": "c62cf809",
   "metadata": {},
   "outputs": [
    {
     "data": {
      "text/plain": [
       "average_balance    29166\n",
       "no_balance          7475\n",
       "low_balance         6087\n",
       "high_balance        2482\n",
       "Name: balance_group_log, dtype: int64"
      ]
     },
     "execution_count": 17,
     "metadata": {},
     "output_type": "execute_result"
    }
   ],
   "source": [
    "bank_cleaned2['balance_group_log'].value_counts()"
   ]
  },
  {
   "cell_type": "code",
   "execution_count": 18,
   "id": "2e33802b",
   "metadata": {},
   "outputs": [
    {
     "data": {
      "text/html": [
       "<div>\n",
       "<style scoped>\n",
       "    .dataframe tbody tr th:only-of-type {\n",
       "        vertical-align: middle;\n",
       "    }\n",
       "\n",
       "    .dataframe tbody tr th {\n",
       "        vertical-align: top;\n",
       "    }\n",
       "\n",
       "    .dataframe thead th {\n",
       "        text-align: right;\n",
       "    }\n",
       "</style>\n",
       "<table border=\"1\" class=\"dataframe\">\n",
       "  <thead>\n",
       "    <tr style=\"text-align: right;\">\n",
       "      <th></th>\n",
       "      <th>No</th>\n",
       "      <th>Yes</th>\n",
       "    </tr>\n",
       "    <tr>\n",
       "      <th>balance_group_log</th>\n",
       "      <th></th>\n",
       "      <th></th>\n",
       "    </tr>\n",
       "  </thead>\n",
       "  <tbody>\n",
       "    <tr>\n",
       "      <th>no_balance</th>\n",
       "      <td>0.930569</td>\n",
       "      <td>0.069431</td>\n",
       "    </tr>\n",
       "    <tr>\n",
       "      <th>low_balance</th>\n",
       "      <td>0.914408</td>\n",
       "      <td>0.085592</td>\n",
       "    </tr>\n",
       "    <tr>\n",
       "      <th>average_balance</th>\n",
       "      <td>0.867243</td>\n",
       "      <td>0.132757</td>\n",
       "    </tr>\n",
       "    <tr>\n",
       "      <th>high_balance</th>\n",
       "      <td>0.848106</td>\n",
       "      <td>0.151894</td>\n",
       "    </tr>\n",
       "  </tbody>\n",
       "</table>\n",
       "</div>"
      ],
      "text/plain": [
       "                         No       Yes\n",
       "balance_group_log                    \n",
       "no_balance         0.930569  0.069431\n",
       "low_balance        0.914408  0.085592\n",
       "average_balance    0.867243  0.132757\n",
       "high_balance       0.848106  0.151894"
      ]
     },
     "execution_count": 18,
     "metadata": {},
     "output_type": "execute_result"
    }
   ],
   "source": [
    "#Calculate the subscription rate within each log group\n",
    "\n",
    "log_subscription_rate = pd.crosstab(bank_cleaned2.balance_group_log,bank_cleaned2.subscription).apply(lambda row: row/row.sum(), axis=1)\n",
    "log_subscription_rate.columns = ['No', 'Yes']\n",
    "log_subscription_rate"
   ]
  },
  {
   "cell_type": "code",
   "execution_count": 19,
   "id": "7424a6cd",
   "metadata": {},
   "outputs": [
    {
     "data": {
      "image/png": "[encoded data removed]",
      "text/plain": [
       "<Figure size 640x480 with 1 Axes>"
      ]
     },
     "metadata": {},
     "output_type": "display_data"
    }
   ],
   "source": [
    "plt.plot(log_subscription_rate['Yes'])\n",
    "plt.xticks(rotation='vertical')\n",
    "\n",
    "plt.show()"
   ]
  },
  {
   "cell_type": "code",
   "execution_count": 20,
   "id": "1356ecfd",
   "metadata": {},
   "outputs": [],
   "source": [
    "#Delete the original balance data\n",
    "bank_cleaned2 = bank_cleaned2.drop(columns =['balance','balance_group'])"
   ]
  },
  {
   "cell_type": "markdown",
   "id": "5cfe9a23",
   "metadata": {},
   "source": [
    "#### Delete Repetitive Features<a id='Delete_Repetitive_Features'></a>"
   ]
  },
  {
   "cell_type": "markdown",
   "id": "9bff8f1d",
   "metadata": {},
   "source": [
    "I dropped a few repetitive columns for better model performance. In addition, the 'Duration' column was dropped to avoid data leak issues since it was a feature we didn't know about before making phone calls."
   ]
  },
  {
   "cell_type": "code",
   "execution_count": 22,
   "id": "4fdf7786",
   "metadata": {},
   "outputs": [],
   "source": [
    "bank_modeling = bank_cleaned2.drop(columns =['balance_group_log','pdays_group','age','campaign_contact_number', 'duration'])\n"
   ]
  },
  {
   "cell_type": "markdown",
   "id": "5b8b3c0a",
   "metadata": {},
   "source": [
    "#### Transform Categorical Features<a id='Transform_Categorical_Features'></a>"
   ]
  },
  {
   "cell_type": "code",
   "execution_count": 25,
   "id": "80ccaa05",
   "metadata": {},
   "outputs": [
    {
     "name": "stdout",
     "output_type": "stream",
     "text": [
      "The data have  45210  rows and  16  columns\n",
      "\n",
      "column names: \n",
      "\n",
      "day\n",
      "campaign\n",
      "pdays\n",
      "previous\n",
      "poutcome\n",
      "subscription\n",
      "month_num\n",
      "balance_log\n",
      "contact_type_cellular\n",
      "contact_type_telephone\n",
      "contact_type_unknown\n",
      "loan_no\n",
      "loan_yes\n",
      "housing_no\n",
      "housing_yes\n",
      "credits_no\n",
      "credits_yes\n",
      "education_primary\n",
      "education_secondary\n",
      "education_tertiary\n",
      "education_unknown\n",
      "marital_divorced\n",
      "marital_married\n",
      "marital_single\n",
      "job_admin.\n",
      "job_blue-collar\n",
      "job_entrepreneur\n",
      "job_housemaid\n",
      "job_management\n",
      "job_retired\n",
      "job_self-employed\n",
      "job_services\n",
      "job_student\n",
      "job_technician\n",
      "job_unemployed\n",
      "job_unknown\n",
      "age_group_30-40\n",
      "age_group_40-50\n",
      "age_group_50-60\n",
      "age_group_<30\n",
      "age_group_>60\n"
     ]
    }
   ],
   "source": [
    "#Convert categorical variables into dummy variables\n",
    "categorical_features = ['contact_type', 'loan', 'housing', 'credits', 'education', 'marital', 'job', 'age_group']\n",
    "bank_dummies = pd.get_dummies(bank_modeling, columns = categorical_features)\n",
    "print('The data have ', bank_modeling.shape[0], ' rows and ', bank_modeling.shape[1], ' columns\\n')\n",
    "print('column names: \\n')\n",
    "print('\\n'.join(list(bank_dummies.columns)))\n"
   ]
  },
  {
   "cell_type": "code",
   "execution_count": 26,
   "id": "f084c494",
   "metadata": {},
   "outputs": [
    {
     "data": {
      "text/html": [
       "<div>\n",
       "<style scoped>\n",
       "    .dataframe tbody tr th:only-of-type {\n",
       "        vertical-align: middle;\n",
       "    }\n",
       "\n",
       "    .dataframe tbody tr th {\n",
       "        vertical-align: top;\n",
       "    }\n",
       "\n",
       "    .dataframe thead th {\n",
       "        text-align: right;\n",
       "    }\n",
       "</style>\n",
       "<table border=\"1\" class=\"dataframe\">\n",
       "  <thead>\n",
       "    <tr style=\"text-align: right;\">\n",
       "      <th></th>\n",
       "      <th>day</th>\n",
       "      <th>campaign</th>\n",
       "      <th>pdays</th>\n",
       "      <th>previous</th>\n",
       "      <th>poutcome</th>\n",
       "      <th>subscription</th>\n",
       "      <th>month_num</th>\n",
       "      <th>balance_log</th>\n",
       "      <th>contact_type_cellular</th>\n",
       "      <th>contact_type_telephone</th>\n",
       "      <th>...</th>\n",
       "      <th>job_services</th>\n",
       "      <th>job_student</th>\n",
       "      <th>job_technician</th>\n",
       "      <th>job_unemployed</th>\n",
       "      <th>job_unknown</th>\n",
       "      <th>age_group_30-40</th>\n",
       "      <th>age_group_40-50</th>\n",
       "      <th>age_group_50-60</th>\n",
       "      <th>age_group_&lt;30</th>\n",
       "      <th>age_group_&gt;60</th>\n",
       "    </tr>\n",
       "  </thead>\n",
       "  <tbody>\n",
       "    <tr>\n",
       "      <th>0</th>\n",
       "      <td>1</td>\n",
       "      <td>1</td>\n",
       "      <td>-1</td>\n",
       "      <td>0</td>\n",
       "      <td>2</td>\n",
       "      <td>0</td>\n",
       "      <td>10</td>\n",
       "      <td>0.000000</td>\n",
       "      <td>0</td>\n",
       "      <td>1</td>\n",
       "      <td>...</td>\n",
       "      <td>0</td>\n",
       "      <td>0</td>\n",
       "      <td>0</td>\n",
       "      <td>0</td>\n",
       "      <td>0</td>\n",
       "      <td>0</td>\n",
       "      <td>0</td>\n",
       "      <td>0</td>\n",
       "      <td>0</td>\n",
       "      <td>1</td>\n",
       "    </tr>\n",
       "    <tr>\n",
       "      <th>1</th>\n",
       "      <td>21</td>\n",
       "      <td>17</td>\n",
       "      <td>-1</td>\n",
       "      <td>0</td>\n",
       "      <td>2</td>\n",
       "      <td>1</td>\n",
       "      <td>4</td>\n",
       "      <td>7.732808</td>\n",
       "      <td>0</td>\n",
       "      <td>1</td>\n",
       "      <td>...</td>\n",
       "      <td>0</td>\n",
       "      <td>0</td>\n",
       "      <td>0</td>\n",
       "      <td>0</td>\n",
       "      <td>0</td>\n",
       "      <td>0</td>\n",
       "      <td>0</td>\n",
       "      <td>0</td>\n",
       "      <td>0</td>\n",
       "      <td>1</td>\n",
       "    </tr>\n",
       "    <tr>\n",
       "      <th>2</th>\n",
       "      <td>3</td>\n",
       "      <td>1</td>\n",
       "      <td>-1</td>\n",
       "      <td>0</td>\n",
       "      <td>2</td>\n",
       "      <td>0</td>\n",
       "      <td>3</td>\n",
       "      <td>7.118016</td>\n",
       "      <td>1</td>\n",
       "      <td>0</td>\n",
       "      <td>...</td>\n",
       "      <td>0</td>\n",
       "      <td>0</td>\n",
       "      <td>0</td>\n",
       "      <td>0</td>\n",
       "      <td>0</td>\n",
       "      <td>0</td>\n",
       "      <td>0</td>\n",
       "      <td>0</td>\n",
       "      <td>0</td>\n",
       "      <td>1</td>\n",
       "    </tr>\n",
       "    <tr>\n",
       "      <th>3</th>\n",
       "      <td>4</td>\n",
       "      <td>2</td>\n",
       "      <td>13</td>\n",
       "      <td>9</td>\n",
       "      <td>1</td>\n",
       "      <td>1</td>\n",
       "      <td>8</td>\n",
       "      <td>6.652863</td>\n",
       "      <td>1</td>\n",
       "      <td>0</td>\n",
       "      <td>...</td>\n",
       "      <td>0</td>\n",
       "      <td>0</td>\n",
       "      <td>0</td>\n",
       "      <td>0</td>\n",
       "      <td>0</td>\n",
       "      <td>0</td>\n",
       "      <td>0</td>\n",
       "      <td>0</td>\n",
       "      <td>0</td>\n",
       "      <td>1</td>\n",
       "    </tr>\n",
       "    <tr>\n",
       "      <th>4</th>\n",
       "      <td>22</td>\n",
       "      <td>2</td>\n",
       "      <td>177</td>\n",
       "      <td>7</td>\n",
       "      <td>1</td>\n",
       "      <td>1</td>\n",
       "      <td>7</td>\n",
       "      <td>6.652863</td>\n",
       "      <td>1</td>\n",
       "      <td>0</td>\n",
       "      <td>...</td>\n",
       "      <td>0</td>\n",
       "      <td>0</td>\n",
       "      <td>0</td>\n",
       "      <td>0</td>\n",
       "      <td>0</td>\n",
       "      <td>0</td>\n",
       "      <td>0</td>\n",
       "      <td>0</td>\n",
       "      <td>0</td>\n",
       "      <td>1</td>\n",
       "    </tr>\n",
       "  </tbody>\n",
       "</table>\n",
       "<p>5 rows × 41 columns</p>\n",
       "</div>"
      ],
      "text/plain": [
       "   day  campaign  pdays  previous  poutcome  subscription  month_num  \\\n",
       "0    1         1     -1         0         2             0         10   \n",
       "1   21        17     -1         0         2             1          4   \n",
       "2    3         1     -1         0         2             0          3   \n",
       "3    4         2     13         9         1             1          8   \n",
       "4   22         2    177         7         1             1          7   \n",
       "\n",
       "   balance_log  contact_type_cellular  contact_type_telephone  ...  \\\n",
       "0     0.000000                      0                       1  ...   \n",
       "1     7.732808                      0                       1  ...   \n",
       "2     7.118016                      1                       0  ...   \n",
       "3     6.652863                      1                       0  ...   \n",
       "4     6.652863                      1                       0  ...   \n",
       "\n",
       "   job_services  job_student  job_technician  job_unemployed  job_unknown  \\\n",
       "0             0            0               0               0            0   \n",
       "1             0            0               0               0            0   \n",
       "2             0            0               0               0            0   \n",
       "3             0            0               0               0            0   \n",
       "4             0            0               0               0            0   \n",
       "\n",
       "   age_group_30-40  age_group_40-50  age_group_50-60  age_group_<30  \\\n",
       "0                0                0                0              0   \n",
       "1                0                0                0              0   \n",
       "2                0                0                0              0   \n",
       "3                0                0                0              0   \n",
       "4                0                0                0              0   \n",
       "\n",
       "   age_group_>60  \n",
       "0              1  \n",
       "1              1  \n",
       "2              1  \n",
       "3              1  \n",
       "4              1  \n",
       "\n",
       "[5 rows x 41 columns]"
      ]
     },
     "execution_count": 26,
     "metadata": {},
     "output_type": "execute_result"
    }
   ],
   "source": [
    "bank_dummies.head()"
   ]
  },
  {
   "cell_type": "markdown",
   "id": "ff97604b",
   "metadata": {},
   "source": [
    "#### Replace 'pdays' Negative Values<a id='Replace_pdays_Negative_Values'></a>"
   ]
  },
  {
   "cell_type": "code",
   "execution_count": 27,
   "id": "29b71dfc",
   "metadata": {},
   "outputs": [
    {
     "data": {
      "text/html": [
       "<div>\n",
       "<style scoped>\n",
       "    .dataframe tbody tr th:only-of-type {\n",
       "        vertical-align: middle;\n",
       "    }\n",
       "\n",
       "    .dataframe tbody tr th {\n",
       "        vertical-align: top;\n",
       "    }\n",
       "\n",
       "    .dataframe thead th {\n",
       "        text-align: right;\n",
       "    }\n",
       "</style>\n",
       "<table border=\"1\" class=\"dataframe\">\n",
       "  <thead>\n",
       "    <tr style=\"text-align: right;\">\n",
       "      <th></th>\n",
       "      <th>day</th>\n",
       "      <th>campaign</th>\n",
       "      <th>pdays</th>\n",
       "      <th>previous</th>\n",
       "      <th>poutcome</th>\n",
       "      <th>subscription</th>\n",
       "      <th>month_num</th>\n",
       "      <th>balance_log</th>\n",
       "      <th>contact_type_cellular</th>\n",
       "      <th>contact_type_telephone</th>\n",
       "      <th>...</th>\n",
       "      <th>job_services</th>\n",
       "      <th>job_student</th>\n",
       "      <th>job_technician</th>\n",
       "      <th>job_unemployed</th>\n",
       "      <th>job_unknown</th>\n",
       "      <th>age_group_30-40</th>\n",
       "      <th>age_group_40-50</th>\n",
       "      <th>age_group_50-60</th>\n",
       "      <th>age_group_&lt;30</th>\n",
       "      <th>age_group_&gt;60</th>\n",
       "    </tr>\n",
       "  </thead>\n",
       "  <tbody>\n",
       "    <tr>\n",
       "      <th>0</th>\n",
       "      <td>1</td>\n",
       "      <td>1</td>\n",
       "      <td>9999</td>\n",
       "      <td>0</td>\n",
       "      <td>2</td>\n",
       "      <td>0</td>\n",
       "      <td>10</td>\n",
       "      <td>0.000000</td>\n",
       "      <td>0</td>\n",
       "      <td>1</td>\n",
       "      <td>...</td>\n",
       "      <td>0</td>\n",
       "      <td>0</td>\n",
       "      <td>0</td>\n",
       "      <td>0</td>\n",
       "      <td>0</td>\n",
       "      <td>0</td>\n",
       "      <td>0</td>\n",
       "      <td>0</td>\n",
       "      <td>0</td>\n",
       "      <td>1</td>\n",
       "    </tr>\n",
       "    <tr>\n",
       "      <th>1</th>\n",
       "      <td>21</td>\n",
       "      <td>17</td>\n",
       "      <td>9999</td>\n",
       "      <td>0</td>\n",
       "      <td>2</td>\n",
       "      <td>1</td>\n",
       "      <td>4</td>\n",
       "      <td>7.732808</td>\n",
       "      <td>0</td>\n",
       "      <td>1</td>\n",
       "      <td>...</td>\n",
       "      <td>0</td>\n",
       "      <td>0</td>\n",
       "      <td>0</td>\n",
       "      <td>0</td>\n",
       "      <td>0</td>\n",
       "      <td>0</td>\n",
       "      <td>0</td>\n",
       "      <td>0</td>\n",
       "      <td>0</td>\n",
       "      <td>1</td>\n",
       "    </tr>\n",
       "    <tr>\n",
       "      <th>2</th>\n",
       "      <td>3</td>\n",
       "      <td>1</td>\n",
       "      <td>9999</td>\n",
       "      <td>0</td>\n",
       "      <td>2</td>\n",
       "      <td>0</td>\n",
       "      <td>3</td>\n",
       "      <td>7.118016</td>\n",
       "      <td>1</td>\n",
       "      <td>0</td>\n",
       "      <td>...</td>\n",
       "      <td>0</td>\n",
       "      <td>0</td>\n",
       "      <td>0</td>\n",
       "      <td>0</td>\n",
       "      <td>0</td>\n",
       "      <td>0</td>\n",
       "      <td>0</td>\n",
       "      <td>0</td>\n",
       "      <td>0</td>\n",
       "      <td>1</td>\n",
       "    </tr>\n",
       "    <tr>\n",
       "      <th>3</th>\n",
       "      <td>4</td>\n",
       "      <td>2</td>\n",
       "      <td>13</td>\n",
       "      <td>9</td>\n",
       "      <td>1</td>\n",
       "      <td>1</td>\n",
       "      <td>8</td>\n",
       "      <td>6.652863</td>\n",
       "      <td>1</td>\n",
       "      <td>0</td>\n",
       "      <td>...</td>\n",
       "      <td>0</td>\n",
       "      <td>0</td>\n",
       "      <td>0</td>\n",
       "      <td>0</td>\n",
       "      <td>0</td>\n",
       "      <td>0</td>\n",
       "      <td>0</td>\n",
       "      <td>0</td>\n",
       "      <td>0</td>\n",
       "      <td>1</td>\n",
       "    </tr>\n",
       "    <tr>\n",
       "      <th>4</th>\n",
       "      <td>22</td>\n",
       "      <td>2</td>\n",
       "      <td>177</td>\n",
       "      <td>7</td>\n",
       "      <td>1</td>\n",
       "      <td>1</td>\n",
       "      <td>7</td>\n",
       "      <td>6.652863</td>\n",
       "      <td>1</td>\n",
       "      <td>0</td>\n",
       "      <td>...</td>\n",
       "      <td>0</td>\n",
       "      <td>0</td>\n",
       "      <td>0</td>\n",
       "      <td>0</td>\n",
       "      <td>0</td>\n",
       "      <td>0</td>\n",
       "      <td>0</td>\n",
       "      <td>0</td>\n",
       "      <td>0</td>\n",
       "      <td>1</td>\n",
       "    </tr>\n",
       "  </tbody>\n",
       "</table>\n",
       "<p>5 rows × 41 columns</p>\n",
       "</div>"
      ],
      "text/plain": [
       "   day  campaign  pdays  previous  poutcome  subscription  month_num  \\\n",
       "0    1         1   9999         0         2             0         10   \n",
       "1   21        17   9999         0         2             1          4   \n",
       "2    3         1   9999         0         2             0          3   \n",
       "3    4         2     13         9         1             1          8   \n",
       "4   22         2    177         7         1             1          7   \n",
       "\n",
       "   balance_log  contact_type_cellular  contact_type_telephone  ...  \\\n",
       "0     0.000000                      0                       1  ...   \n",
       "1     7.732808                      0                       1  ...   \n",
       "2     7.118016                      1                       0  ...   \n",
       "3     6.652863                      1                       0  ...   \n",
       "4     6.652863                      1                       0  ...   \n",
       "\n",
       "   job_services  job_student  job_technician  job_unemployed  job_unknown  \\\n",
       "0             0            0               0               0            0   \n",
       "1             0            0               0               0            0   \n",
       "2             0            0               0               0            0   \n",
       "3             0            0               0               0            0   \n",
       "4             0            0               0               0            0   \n",
       "\n",
       "   age_group_30-40  age_group_40-50  age_group_50-60  age_group_<30  \\\n",
       "0                0                0                0              0   \n",
       "1                0                0                0              0   \n",
       "2                0                0                0              0   \n",
       "3                0                0                0              0   \n",
       "4                0                0                0              0   \n",
       "\n",
       "   age_group_>60  \n",
       "0              1  \n",
       "1              1  \n",
       "2              1  \n",
       "3              1  \n",
       "4              1  \n",
       "\n",
       "[5 rows x 41 columns]"
      ]
     },
     "execution_count": 27,
     "metadata": {},
     "output_type": "execute_result"
    }
   ],
   "source": [
    "#replace 'pdays' negative outlier with a positive number\n",
    "\n",
    "bank_dummies['pdays'].replace(-1,9999, inplace=True)\n",
    "bank_dummies.head()"
   ]
  },
  {
   "cell_type": "markdown",
   "id": "6971b9e9",
   "metadata": {},
   "source": [
    "### Train/Test Split<a id='Train_Test_Split'></a>"
   ]
  },
  {
   "cell_type": "code",
   "execution_count": 28,
   "id": "3561a10e",
   "metadata": {},
   "outputs": [
    {
     "name": "stdout",
     "output_type": "stream",
     "text": [
      "X:  <class 'pandas.core.frame.DataFrame'> (45210, 40)\n"
     ]
    }
   ],
   "source": [
    "X = bank_dummies.drop(columns = ['subscription'])\n",
    "print(\"X: \", type(X), X.shape)"
   ]
  },
  {
   "cell_type": "code",
   "execution_count": 29,
   "id": "eb4ce376",
   "metadata": {},
   "outputs": [
    {
     "name": "stdout",
     "output_type": "stream",
     "text": [
      "y:  <class 'pandas.core.series.Series'> (45210,)\n"
     ]
    }
   ],
   "source": [
    "y = bank_dummies['subscription']\n",
    "print(\"y: \", type(y), y.shape)"
   ]
  },
  {
   "cell_type": "code",
   "execution_count": 30,
   "id": "8e528de1",
   "metadata": {},
   "outputs": [
    {
     "data": {
      "text/plain": [
       "['day',\n",
       " 'campaign',\n",
       " 'pdays',\n",
       " 'previous',\n",
       " 'poutcome',\n",
       " 'month_num',\n",
       " 'balance_log',\n",
       " 'contact_type_cellular',\n",
       " 'contact_type_telephone',\n",
       " 'contact_type_unknown',\n",
       " 'loan_no',\n",
       " 'loan_yes',\n",
       " 'housing_no',\n",
       " 'housing_yes',\n",
       " 'credits_no',\n",
       " 'credits_yes',\n",
       " 'education_primary',\n",
       " 'education_secondary',\n",
       " 'education_tertiary',\n",
       " 'education_unknown',\n",
       " 'marital_divorced',\n",
       " 'marital_married',\n",
       " 'marital_single',\n",
       " 'job_admin.',\n",
       " 'job_blue-collar',\n",
       " 'job_entrepreneur',\n",
       " 'job_housemaid',\n",
       " 'job_management',\n",
       " 'job_retired',\n",
       " 'job_self-employed',\n",
       " 'job_services',\n",
       " 'job_student',\n",
       " 'job_technician',\n",
       " 'job_unemployed',\n",
       " 'job_unknown',\n",
       " 'age_group_30-40',\n",
       " 'age_group_40-50',\n",
       " 'age_group_50-60',\n",
       " 'age_group_<30',\n",
       " 'age_group_>60']"
      ]
     },
     "execution_count": 30,
     "metadata": {},
     "output_type": "execute_result"
    }
   ],
   "source": [
    "list(X.columns)"
   ]
  },
  {
   "cell_type": "code",
   "execution_count": 31,
   "id": "2ded35e2",
   "metadata": {},
   "outputs": [
    {
     "name": "stdout",
     "output_type": "stream",
     "text": [
      "Training split has  33907  rows\n",
      " and the corresponding labels have an equal number of values. (33907)\n",
      "test split has  11303  rows\n",
      " and the corresponding labels have an equal number of values. (11303)\n"
     ]
    }
   ],
   "source": [
    "Xlr, Xtest, ylr, ytest = train_test_split(X, y, test_size = 0.25, random_state = 2, stratify = y)\n",
    "print('Training split has ', Xlr.shape[0], ' rows\\n',\n",
    "      'and the corresponding labels have an equal number of values.', \n",
    "      '(' + str(len(ylr))+ ')')\n",
    "print('test split has ', Xtest.shape[0], ' rows\\n',\n",
    "      'and the corresponding labels have an equal number of values.', \n",
    "      '(' + str(len(ytest)) + ')')"
   ]
  },
  {
   "cell_type": "markdown",
   "id": "987874b5",
   "metadata": {},
   "source": [
    "### Logistic Regression Model<a id='Logistic_Regression_Model'></a>\n"
   ]
  },
  {
   "cell_type": "markdown",
   "id": "a8e3c2e8",
   "metadata": {},
   "source": [
    "#### Scale The Data<a id='Scale_The_Data'></a>"
   ]
  },
  {
   "cell_type": "code",
   "execution_count": 35,
   "id": "f280030b",
   "metadata": {},
   "outputs": [],
   "source": [
    "#The RobustScaler removes the median and scales the data between the 1st and 3rd quartile \n",
    "from sklearn.preprocessing import RobustScaler\n",
    "Xlr_scaled=RobustScaler().fit_transform(Xlr)"
   ]
  },
  {
   "cell_type": "markdown",
   "id": "6822eb37",
   "metadata": {},
   "source": [
    "#### With All Features<a id='With_All_Featuresa'></a>"
   ]
  },
  {
   "cell_type": "code",
   "execution_count": 34,
   "id": "0b4b751c",
   "metadata": {},
   "outputs": [
    {
     "name": "stdout",
     "output_type": "stream",
     "text": [
      "{'C': 10, 'solver': 'liblinear'} 0.742645049507271\n"
     ]
    }
   ],
   "source": [
    "log_reg = LogisticRegression()\n",
    "space = dict()\n",
    "space['solver'] = ['newton-cg', 'lbfgs', 'liblinear']\n",
    "space['C'] = [0.01, .1, 1, 10]\n",
    "#Hyperparameter search using GridSearchCV\n",
    "logreg_gs = GridSearchCV(log_reg, space, cv=5,scoring='roc_auc')\n",
    "logreg_gs.fit(Xlr_scaled, ylr)\n",
    "\n",
    "print(logreg_gs.best_params_, logreg_gs.best_score_)"
   ]
  },
  {
   "cell_type": "markdown",
   "id": "30e2b090",
   "metadata": {},
   "source": [
    "#### Feature Selection<a id='Feature_Selection'></a>"
   ]
  },
  {
   "cell_type": "code",
   "execution_count": 36,
   "id": "58e9f29b",
   "metadata": {
    "scrolled": true
   },
   "outputs": [
    {
     "data": {
      "text/plain": [
       "<AxesSubplot:title={'center':'Feature Importance'}>"
      ]
     },
     "execution_count": 36,
     "metadata": {},
     "output_type": "execute_result"
    },
    {
     "data": {
      "image/png": "[encoded data removed]",
      "text/plain": [
       "<Figure size 640x480 with 1 Axes>"
      ]
     },
     "metadata": {},
     "output_type": "display_data"
    }
   ],
   "source": [
    "importance = logreg_gs.best_estimator_.coef_[0]\n",
    "\n",
    "feat_importances = pd.Series(importance, index=Xlr.columns)\n",
    "feat_importances.nlargest(20).plot(kind='barh',title = 'Feature Importance')\n"
   ]
  },
  {
   "cell_type": "code",
   "execution_count": 39,
   "id": "01f9d1fa",
   "metadata": {},
   "outputs": [],
   "source": [
    "log_feature_5 = ['education_tertiary', 'age_group_>60', 'housing_no','contact_type_cellular', 'loan_no']\n",
    "log_feature_10 =  ['job_student', 'age_group_>60', 'housing_no','contact_type_cellular', 'loan_no', 'balance_log', 'contact_type_telephone', 'education_tertiary', 'poutcome', 'marital_single']\n"
   ]
  },
  {
   "cell_type": "markdown",
   "id": "7c5204ca",
   "metadata": {},
   "source": [
    "#### With Five Features<a id='With_Five_Featuresa'></a>"
   ]
  },
  {
   "cell_type": "code",
   "execution_count": 41,
   "id": "7b665ca5",
   "metadata": {},
   "outputs": [
    {
     "name": "stdout",
     "output_type": "stream",
     "text": [
      "{'C': 0.1, 'solver': 'liblinear'} 0.6953698031057876\n"
     ]
    }
   ],
   "source": [
    "X_log_5 = Xlr[log_feature_5]\n",
    "Xlr_log5_scaled= RobustScaler().fit_transform(X_log_5)\n",
    "log_reg_5 = LogisticRegression()\n",
    "#Hyperparameter search using GridSearchCV\n",
    "logreg_gs_5 = GridSearchCV(log_reg_5, space, cv=5,scoring='roc_auc')\n",
    "logreg_gs_5.fit(Xlr_log5_scaled, ylr)\n",
    "\n",
    "print(logreg_gs_5.best_params_, logreg_gs_5.best_score_)"
   ]
  },
  {
   "cell_type": "markdown",
   "id": "9d55bfc3",
   "metadata": {},
   "source": [
    "#### With Ten Features<a id='With_Ten_Featuresa'></a>"
   ]
  },
  {
   "cell_type": "code",
   "execution_count": 42,
   "id": "601afd94",
   "metadata": {},
   "outputs": [
    {
     "name": "stdout",
     "output_type": "stream",
     "text": [
      "{'C': 0.1, 'solver': 'liblinear'} 0.7220055905123484\n"
     ]
    }
   ],
   "source": [
    "X_log_10 = Xlr[log_feature_10]\n",
    "Xlr_log10_scaled=RobustScaler().fit_transform(X_log_10)\n",
    "log_reg_10 = LogisticRegression()\n",
    "#Hyperparameter search using GridSearchCV\n",
    "logreg_gs_10 = GridSearchCV(log_reg_10, space, cv=5,scoring='roc_auc')\n",
    "logreg_gs_10.fit(Xlr_log10_scaled, ylr)\n",
    "\n",
    "print(logreg_gs_10.best_params_, logreg_gs_10.best_score_)\n"
   ]
  },
  {
   "cell_type": "markdown",
   "id": "2218de2f",
   "metadata": {},
   "source": [
    "Logistic Regression Model with all features has better roc_auc score than with selective features. "
   ]
  },
  {
   "cell_type": "markdown",
   "id": "fc01c333",
   "metadata": {},
   "source": [
    "### Random Forest Model<a id='Random_Forest_Model'></a>"
   ]
  },
  {
   "cell_type": "markdown",
   "id": "cb2e73bd",
   "metadata": {},
   "source": [
    "#### With All Features<a id='With_All_Featuresa_RF'></a>"
   ]
  },
  {
   "cell_type": "code",
   "execution_count": 46,
   "id": "f490b032",
   "metadata": {},
   "outputs": [
    {
     "name": "stdout",
     "output_type": "stream",
     "text": [
      "{'max_depth': 6, 'n_estimators': 500} 0.7699041316672158\n"
     ]
    }
   ],
   "source": [
    "RFModel=RandomForestClassifier(random_state=2)\n",
    "\n",
    "param_grid = { \n",
    "    'n_estimators': [200, 500],    \n",
    "    'max_depth' : [3,4,5,6]\n",
    "   }\n",
    "#Hyperparameter search using GridSearchCV\n",
    "RFModel = GridSearchCV(RFModel, param_grid, cv= 5, scoring='roc_auc')\n",
    "RFModel.fit(Xlr, ylr)\n",
    "print(RFModel.best_params_, RFModel.best_score_)\n",
    "\n"
   ]
  },
  {
   "cell_type": "markdown",
   "id": "153477bd",
   "metadata": {},
   "source": [
    "#### Feature Selection<a id='Feature_Selection_RF'></a>"
   ]
  },
  {
   "cell_type": "code",
   "execution_count": 47,
   "id": "2e46c77f",
   "metadata": {},
   "outputs": [
    {
     "name": "stdout",
     "output_type": "stream",
     "text": [
      "30\n"
     ]
    },
    {
     "data": {
      "image/png": "[encoded data removed]",
      "text/plain": [
       "<Figure size 1000x1000 with 1 Axes>"
      ]
     },
     "metadata": {},
     "output_type": "display_data"
    }
   ],
   "source": [
    "feature_importance = RFModel.best_estimator_.feature_importances_\n",
    "# make importances relative to max importance\n",
    "feature_importance = 100.0 * (feature_importance / feature_importance.max())[:30]\n",
    "sorted_idx = np.argsort(feature_importance)[:30]\n",
    "\n",
    "pos = np.arange(sorted_idx.shape[0]) + .5\n",
    "print(pos.size)\n",
    "sorted_idx.size\n",
    "plt.figure(figsize=(10,10))\n",
    "plt.barh(pos, feature_importance[sorted_idx], align='center')\n",
    "plt.yticks(pos, X.columns[sorted_idx])\n",
    "plt.xlabel('Relative Importance')\n",
    "plt.title('Variable Importance')\n",
    "plt.show()"
   ]
  },
  {
   "cell_type": "markdown",
   "id": "68175042",
   "metadata": {},
   "source": [
    "'poutcome', ‘pdays’, 'month_num’, ‘housing_no’, ‘previous’ are the five most important features, according to the random forest model.  However, a majority of customers hadn’t been contacted before, so they didn't have information on the ‘poutcome’, ‘pdays’ and ‘previous.’"
   ]
  },
  {
   "cell_type": "code",
   "execution_count": 49,
   "id": "0c7091cc",
   "metadata": {},
   "outputs": [],
   "source": [
    "forest_feature_5 = ['month_num', 'previous', 'pdays','poutcome', 'housing_no']\n",
    "forest_feature_10 =  ['contact_type_unknown', 'previous', 'pdays','poutcome', 'housing_yes', 'housing_no', 'month_num', 'day','contact_type_cellular']\n"
   ]
  },
  {
   "cell_type": "markdown",
   "id": "30cea459",
   "metadata": {},
   "source": [
    "#### With Five Features<a id='With_Five_Featuresa_RF'></a>"
   ]
  },
  {
   "cell_type": "code",
   "execution_count": 50,
   "id": "773918a1",
   "metadata": {},
   "outputs": [
    {
     "name": "stdout",
     "output_type": "stream",
     "text": [
      "{'max_depth': 6, 'n_estimators': 200} 0.7383292693344332\n"
     ]
    }
   ],
   "source": [
    "X_forest_5 = Xlr[forest_feature_5]\n",
    "RFModel_5 = RandomForestClassifier(random_state=2)\n",
    "#Hyperparameter search using GridSearchCV\n",
    "RFModel_5 = GridSearchCV(RFModel_5, param_grid, cv= 5, scoring='roc_auc')\n",
    "RFModel_5.fit(X_forest_5, ylr)\n",
    "print(RFModel_5.best_params_, RFModel_5.best_score_)"
   ]
  },
  {
   "cell_type": "markdown",
   "id": "701f1d41",
   "metadata": {},
   "source": [
    "#### With Ten Features<a id='With_Ten_Featuresa_RF'></a>"
   ]
  },
  {
   "cell_type": "code",
   "execution_count": 51,
   "id": "6443f2a9",
   "metadata": {},
   "outputs": [
    {
     "name": "stdout",
     "output_type": "stream",
     "text": [
      "{'max_depth': 6, 'n_estimators': 500} 0.7744012633960903\n"
     ]
    }
   ],
   "source": [
    "X_forest_10 = Xlr[forest_feature_10]\n",
    "RFModel_10 = RandomForestClassifier(random_state=2)\n",
    "#Hyperparameter search using GridSearchCV\n",
    "RFModel_10 = GridSearchCV(RFModel_10, param_grid, cv= 5, scoring='roc_auc')\n",
    "RFModel_10.fit(X_forest_10, ylr)\n",
    "print(RFModel_10.best_params_, RFModel_10.best_score_)"
   ]
  },
  {
   "cell_type": "markdown",
   "id": "914c707c",
   "metadata": {},
   "source": [
    "Random Forest Model with Ten features has better roc_auc score than with five features and all features. "
   ]
  },
  {
   "cell_type": "markdown",
   "id": "8fc0a5d4",
   "metadata": {},
   "source": [
    "### Gradient Boosting Model<a id='Gradient_Boosting_Model'></a>"
   ]
  },
  {
   "cell_type": "markdown",
   "id": "a48508a4",
   "metadata": {},
   "source": [
    "#### With All Features<a id='With_All_Featuresa_GB'></a>"
   ]
  },
  {
   "cell_type": "code",
   "execution_count": 57,
   "id": "92cd0535",
   "metadata": {},
   "outputs": [
    {
     "name": "stdout",
     "output_type": "stream",
     "text": [
      "{'learning_rate': 0.1, 'max_depth': 8, 'max_features': 'log2', 'n_estimators': 20} 0.7829025583298613\n"
     ]
    }
   ],
   "source": [
    "GBModel =GradientBoostingClassifier(random_state = 2)\n",
    "parameters = {\n",
    "    \"n_estimators\":[10,20],\n",
    "    \"learning_rate\": [0.05, 0.1, 0.25, 0.5,0.75,1],\n",
    "    \"max_depth\":[2,5,8],\n",
    "    \"max_features\":[\"log2\",\"sqrt\"]   \n",
    "    }\n",
    "#Hyperparameter search using GridSearchCV\n",
    "GBModel= GridSearchCV(GBModel, parameters, cv= 5, scoring='roc_auc')\n",
    "GBModel.fit(Xlr, ylr)\n",
    "print(GBModel.best_params_, GBModel.best_score_)\n"
   ]
  },
  {
   "cell_type": "markdown",
   "id": "ce8af1c3",
   "metadata": {},
   "source": [
    "#### Feature Selection<a id='Feature_Selection_GB'></a>"
   ]
  },
  {
   "cell_type": "code",
   "execution_count": 55,
   "id": "f600a6ba",
   "metadata": {},
   "outputs": [
    {
     "data": {
      "text/html": [
       "<div>\n",
       "<style scoped>\n",
       "    .dataframe tbody tr th:only-of-type {\n",
       "        vertical-align: middle;\n",
       "    }\n",
       "\n",
       "    .dataframe tbody tr th {\n",
       "        vertical-align: top;\n",
       "    }\n",
       "\n",
       "    .dataframe thead th {\n",
       "        text-align: right;\n",
       "    }\n",
       "</style>\n",
       "<table border=\"1\" class=\"dataframe\">\n",
       "  <thead>\n",
       "    <tr style=\"text-align: right;\">\n",
       "      <th></th>\n",
       "      <th>features</th>\n",
       "      <th>weights</th>\n",
       "    </tr>\n",
       "  </thead>\n",
       "  <tbody>\n",
       "    <tr>\n",
       "      <th>2</th>\n",
       "      <td>pdays</td>\n",
       "      <td>0.143758</td>\n",
       "    </tr>\n",
       "    <tr>\n",
       "      <th>4</th>\n",
       "      <td>poutcome</td>\n",
       "      <td>0.140127</td>\n",
       "    </tr>\n",
       "    <tr>\n",
       "      <th>5</th>\n",
       "      <td>month_num</td>\n",
       "      <td>0.112517</td>\n",
       "    </tr>\n",
       "    <tr>\n",
       "      <th>0</th>\n",
       "      <td>day</td>\n",
       "      <td>0.070327</td>\n",
       "    </tr>\n",
       "    <tr>\n",
       "      <th>3</th>\n",
       "      <td>previous</td>\n",
       "      <td>0.066397</td>\n",
       "    </tr>\n",
       "    <tr>\n",
       "      <th>6</th>\n",
       "      <td>balance_log</td>\n",
       "      <td>0.061906</td>\n",
       "    </tr>\n",
       "    <tr>\n",
       "      <th>13</th>\n",
       "      <td>housing_yes</td>\n",
       "      <td>0.061533</td>\n",
       "    </tr>\n",
       "    <tr>\n",
       "      <th>39</th>\n",
       "      <td>age_group_&gt;60</td>\n",
       "      <td>0.047519</td>\n",
       "    </tr>\n",
       "    <tr>\n",
       "      <th>12</th>\n",
       "      <td>housing_no</td>\n",
       "      <td>0.044451</td>\n",
       "    </tr>\n",
       "    <tr>\n",
       "      <th>7</th>\n",
       "      <td>contact_type_cellular</td>\n",
       "      <td>0.037782</td>\n",
       "    </tr>\n",
       "  </tbody>\n",
       "</table>\n",
       "</div>"
      ],
      "text/plain": [
       "                 features   weights\n",
       "2                   pdays  0.143758\n",
       "4                poutcome  0.140127\n",
       "5               month_num  0.112517\n",
       "0                     day  0.070327\n",
       "3                previous  0.066397\n",
       "6             balance_log  0.061906\n",
       "13            housing_yes  0.061533\n",
       "39          age_group_>60  0.047519\n",
       "12             housing_no  0.044451\n",
       "7   contact_type_cellular  0.037782"
      ]
     },
     "execution_count": 55,
     "metadata": {},
     "output_type": "execute_result"
    }
   ],
   "source": [
    "features=[]\n",
    "for columns in X.columns:\n",
    "    features.append(columns)\n",
    "GBfeatures = GBModel.best_estimator_.feature_importances_\n",
    "for i in GBfeatures:\n",
    "    i.round(3)\n",
    "GBfeatures = pd.DataFrame({\"features\":features}).join(pd.DataFrame({\"weights\":GBfeatures}))\n",
    "GBfeatures.sort_values(by=['weights'], ascending=False).head(10)\n",
    "\n"
   ]
  },
  {
   "cell_type": "code",
   "execution_count": 56,
   "id": "f9093e9c",
   "metadata": {},
   "outputs": [],
   "source": [
    "gb_feature_5 = ['previous', 'day', 'pdays','poutcome', 'month_num']\n",
    "gb_feature_10 =  ['contact_type_cellular', 'housing_yes', 'pdays','poutcome', 'age_group_>60','previous','housing_no', 'balance_log', 'day', 'month_num']\n"
   ]
  },
  {
   "cell_type": "markdown",
   "id": "88079942",
   "metadata": {},
   "source": [
    "#### With Five Features<a id='With_Five_Featuresa_GB'></a>"
   ]
  },
  {
   "cell_type": "code",
   "execution_count": 59,
   "id": "44c946ea",
   "metadata": {},
   "outputs": [
    {
     "name": "stdout",
     "output_type": "stream",
     "text": [
      "{'learning_rate': 0.1, 'max_depth': 8, 'max_features': 'log2', 'n_estimators': 20} 0.7665734528785692\n"
     ]
    }
   ],
   "source": [
    "X_GB_5 = Xlr[gb_feature_5]\n",
    "GBModel_5 =GradientBoostingClassifier(random_state = 2)\n",
    "#Hyperparameter search using GridSearchCV\n",
    "GBModel_5= GridSearchCV(GBModel_5, parameters, cv= 5, scoring='roc_auc')\n",
    "GBModel_5.fit(X_GB_5, ylr)\n",
    "print(GBModel_5.best_params_, GBModel_5.best_score_)\n"
   ]
  },
  {
   "cell_type": "markdown",
   "id": "61d2aa14",
   "metadata": {},
   "source": [
    "#### With Ten Features<a id='With_Ten_Featuresa_GB'></a>"
   ]
  },
  {
   "cell_type": "code",
   "execution_count": 99,
   "id": "c50f1c54",
   "metadata": {},
   "outputs": [
    {
     "name": "stdout",
     "output_type": "stream",
     "text": [
      "{'learning_rate': 0.1, 'max_depth': 8, 'max_features': 'log2', 'n_estimators': 20} 0.787425363505171\n"
     ]
    }
   ],
   "source": [
    "\n",
    "X_GB_10 = Xlr[gb_feature_10]\n",
    "GBModel_10 =GradientBoostingClassifier(random_state = 2)\n",
    "#Hyperparameter search using GridSearchCV\n",
    "GBModel_10= GridSearchCV(GBModel_10, parameters, cv= 5, scoring='roc_auc')\n",
    "GBModel_10.fit(X_GB_10, ylr)\n",
    "print(GBModel_10.best_params_, GBModel_10.best_score_)\n"
   ]
  },
  {
   "cell_type": "markdown",
   "id": "87a22688",
   "metadata": {},
   "source": [
    "Gradient Boosting Model with all features has better roc_auc score than with selective features. "
   ]
  },
  {
   "cell_type": "markdown",
   "id": "a7028230",
   "metadata": {},
   "source": [
    "### ROC Curve<a id='ROC_Curve'></a>"
   ]
  },
  {
   "cell_type": "code",
   "execution_count": 76,
   "id": "9cff3d9e",
   "metadata": {},
   "outputs": [],
   "source": [
    "# Compute fpr, tpr and thresholds \n",
    "logreg_fpr, logreg_tpr, thresholds = roc_curve(ylr, logreg_gs.best_estimator_.predict_proba(Xlr_scaled)[:, 1])\n",
    "rf_fpr, rf_tpr, thresholds = roc_curve(ylr, RFModel_10.best_estimator_.predict_proba(X_forest_10)[:, 1])\n",
    "gb_fpr, gb_tpr, thresholds = roc_curve(ylr, GBModel_10.best_estimator_.predict_proba(X_GB_10)[:, 1])\n",
    "\n"
   ]
  },
  {
   "cell_type": "code",
   "execution_count": 77,
   "id": "d7ef7fd5",
   "metadata": {
    "scrolled": true
   },
   "outputs": [
    {
     "data": {
      "image/png": "[encoded data removed]",
      "text/plain": [
       "<Figure size 1200x800 with 1 Axes>"
      ]
     },
     "metadata": {},
     "output_type": "display_data"
    }
   ],
   "source": [
    "from numpy import sqrt\n",
    "plt.figure(figsize=(12,8))\n",
    "\n",
    "for fpr, tpr, model in [(logreg_fpr,logreg_tpr,'Logistic Regression'),(rf_fpr,rf_tpr,'Random Forest'),(gb_fpr,gb_tpr,'Gradient Boosting')]:\n",
    "    roc_auc = auc(fpr, tpr)\n",
    "    plt.plot(fpr, tpr,\n",
    "             lw=2, label='ROC '+ model + ' (area = %0.4f)' % roc_auc)\n",
    "# Plot ROC curve\n",
    "plt.plot([0, 1], [0, 1], color='navy', lw=2, linestyle='--')\n",
    "plt.xlim([0.0, 1.0])\n",
    "plt.ylim([0.0, 1.05])\n",
    "\n",
    "plt.xlabel('False Positive Rate')\n",
    "plt.ylabel('True Positive Rate')\n",
    "plt.title('ROC-AUC comparison')\n",
    "plt.legend(loc=\"lower right\")\n",
    "plt.show()\n"
   ]
  },
  {
   "cell_type": "markdown",
   "id": "5328fe73",
   "metadata": {},
   "source": [
    "The graph above demonstrates that the Gradient Boosting model produces the best result across all business scenarios, realizing a smaller FPR in comparison to the same TPR of the other models. "
   ]
  },
  {
   "cell_type": "markdown",
   "id": "b5069e2a",
   "metadata": {},
   "source": [
    "### Threshold For Profitability<a id='Threshold_For_Profitability'></a>\n"
   ]
  },
  {
   "cell_type": "code",
   "execution_count": 82,
   "id": "ed22591f",
   "metadata": {},
   "outputs": [],
   "source": [
    "#Load the cleaned dataset with 'duration' column\n",
    "bank_cleaned = pd.read_csv('../data/bank_cleaned2.csv', index_col=0)"
   ]
  },
  {
   "cell_type": "markdown",
   "id": "e87db178",
   "metadata": {},
   "source": [
    "#### Obtain Revenue Per Subscription<a id='Obtain_Revenue_Per_Subscription'></a>"
   ]
  },
  {
   "cell_type": "code",
   "execution_count": 80,
   "id": "96a0be0d",
   "metadata": {},
   "outputs": [
    {
     "data": {
      "text/html": [
       "<div>\n",
       "<style scoped>\n",
       "    .dataframe tbody tr th:only-of-type {\n",
       "        vertical-align: middle;\n",
       "    }\n",
       "\n",
       "    .dataframe tbody tr th {\n",
       "        vertical-align: top;\n",
       "    }\n",
       "\n",
       "    .dataframe thead th {\n",
       "        text-align: right;\n",
       "    }\n",
       "</style>\n",
       "<table border=\"1\" class=\"dataframe\">\n",
       "  <thead>\n",
       "    <tr style=\"text-align: right;\">\n",
       "      <th></th>\n",
       "      <th>age</th>\n",
       "      <th>job</th>\n",
       "      <th>marital</th>\n",
       "      <th>education</th>\n",
       "      <th>credits</th>\n",
       "      <th>balance</th>\n",
       "      <th>housing</th>\n",
       "      <th>loan</th>\n",
       "      <th>contact_type</th>\n",
       "      <th>day</th>\n",
       "      <th>...</th>\n",
       "      <th>campaign</th>\n",
       "      <th>pdays</th>\n",
       "      <th>previous</th>\n",
       "      <th>poutcome</th>\n",
       "      <th>subscription</th>\n",
       "      <th>month_num</th>\n",
       "      <th>balance_group</th>\n",
       "      <th>campaign_contact_number</th>\n",
       "      <th>pdays_group</th>\n",
       "      <th>age_group</th>\n",
       "    </tr>\n",
       "  </thead>\n",
       "  <tbody>\n",
       "    <tr>\n",
       "      <th>0</th>\n",
       "      <td>95</td>\n",
       "      <td>retired</td>\n",
       "      <td>married</td>\n",
       "      <td>secondary</td>\n",
       "      <td>no</td>\n",
       "      <td>0</td>\n",
       "      <td>no</td>\n",
       "      <td>no</td>\n",
       "      <td>telephone</td>\n",
       "      <td>1</td>\n",
       "      <td>...</td>\n",
       "      <td>1</td>\n",
       "      <td>-1</td>\n",
       "      <td>0</td>\n",
       "      <td>2</td>\n",
       "      <td>0</td>\n",
       "      <td>10</td>\n",
       "      <td>no_balance</td>\n",
       "      <td>NaN</td>\n",
       "      <td>NaN</td>\n",
       "      <td>&gt;60</td>\n",
       "    </tr>\n",
       "    <tr>\n",
       "      <th>1</th>\n",
       "      <td>95</td>\n",
       "      <td>retired</td>\n",
       "      <td>divorced</td>\n",
       "      <td>primary</td>\n",
       "      <td>no</td>\n",
       "      <td>2282</td>\n",
       "      <td>no</td>\n",
       "      <td>no</td>\n",
       "      <td>telephone</td>\n",
       "      <td>21</td>\n",
       "      <td>...</td>\n",
       "      <td>17</td>\n",
       "      <td>-1</td>\n",
       "      <td>0</td>\n",
       "      <td>2</td>\n",
       "      <td>1</td>\n",
       "      <td>4</td>\n",
       "      <td>high_balance</td>\n",
       "      <td>&gt;6</td>\n",
       "      <td>NaN</td>\n",
       "      <td>&gt;60</td>\n",
       "    </tr>\n",
       "    <tr>\n",
       "      <th>2</th>\n",
       "      <td>94</td>\n",
       "      <td>retired</td>\n",
       "      <td>divorced</td>\n",
       "      <td>secondary</td>\n",
       "      <td>no</td>\n",
       "      <td>1234</td>\n",
       "      <td>no</td>\n",
       "      <td>no</td>\n",
       "      <td>cellular</td>\n",
       "      <td>3</td>\n",
       "      <td>...</td>\n",
       "      <td>1</td>\n",
       "      <td>-1</td>\n",
       "      <td>0</td>\n",
       "      <td>2</td>\n",
       "      <td>0</td>\n",
       "      <td>3</td>\n",
       "      <td>average_balance</td>\n",
       "      <td>NaN</td>\n",
       "      <td>NaN</td>\n",
       "      <td>&gt;60</td>\n",
       "    </tr>\n",
       "    <tr>\n",
       "      <th>3</th>\n",
       "      <td>93</td>\n",
       "      <td>retired</td>\n",
       "      <td>married</td>\n",
       "      <td>unknown</td>\n",
       "      <td>no</td>\n",
       "      <td>775</td>\n",
       "      <td>no</td>\n",
       "      <td>no</td>\n",
       "      <td>cellular</td>\n",
       "      <td>4</td>\n",
       "      <td>...</td>\n",
       "      <td>2</td>\n",
       "      <td>13</td>\n",
       "      <td>9</td>\n",
       "      <td>1</td>\n",
       "      <td>1</td>\n",
       "      <td>8</td>\n",
       "      <td>average_balance</td>\n",
       "      <td>1</td>\n",
       "      <td>1-4months</td>\n",
       "      <td>&gt;60</td>\n",
       "    </tr>\n",
       "    <tr>\n",
       "      <th>4</th>\n",
       "      <td>93</td>\n",
       "      <td>retired</td>\n",
       "      <td>married</td>\n",
       "      <td>unknown</td>\n",
       "      <td>no</td>\n",
       "      <td>775</td>\n",
       "      <td>no</td>\n",
       "      <td>no</td>\n",
       "      <td>cellular</td>\n",
       "      <td>22</td>\n",
       "      <td>...</td>\n",
       "      <td>2</td>\n",
       "      <td>177</td>\n",
       "      <td>7</td>\n",
       "      <td>1</td>\n",
       "      <td>1</td>\n",
       "      <td>7</td>\n",
       "      <td>average_balance</td>\n",
       "      <td>1</td>\n",
       "      <td>4-7months</td>\n",
       "      <td>&gt;60</td>\n",
       "    </tr>\n",
       "  </tbody>\n",
       "</table>\n",
       "<p>5 rows × 21 columns</p>\n",
       "</div>"
      ],
      "text/plain": [
       "   age      job   marital  education credits  balance housing loan  \\\n",
       "0   95  retired   married  secondary      no        0      no   no   \n",
       "1   95  retired  divorced    primary      no     2282      no   no   \n",
       "2   94  retired  divorced  secondary      no     1234      no   no   \n",
       "3   93  retired   married    unknown      no      775      no   no   \n",
       "4   93  retired   married    unknown      no      775      no   no   \n",
       "\n",
       "  contact_type  day  ...  campaign  pdays  previous  poutcome  subscription  \\\n",
       "0    telephone    1  ...         1     -1         0         2             0   \n",
       "1    telephone   21  ...        17     -1         0         2             1   \n",
       "2     cellular    3  ...         1     -1         0         2             0   \n",
       "3     cellular    4  ...         2     13         9         1             1   \n",
       "4     cellular   22  ...         2    177         7         1             1   \n",
       "\n",
       "   month_num    balance_group campaign_contact_number pdays_group age_group  \n",
       "0         10       no_balance                     NaN         NaN       >60  \n",
       "1          4     high_balance                      >6         NaN       >60  \n",
       "2          3  average_balance                     NaN         NaN       >60  \n",
       "3          8  average_balance                       1   1-4months       >60  \n",
       "4          7  average_balance                       1   4-7months       >60  \n",
       "\n",
       "[5 rows x 21 columns]"
      ]
     },
     "execution_count": 80,
     "metadata": {},
     "output_type": "execute_result"
    }
   ],
   "source": [
    "#To make it more accurate, I only used the bank data that happened within one year. \n",
    "previous_year_bank = bank_cleaned[bank_cleaned.pdays> 365]\n",
    "one_year_bank = bank_cleaned.drop(previous_year_bank.index)\n",
    "one_year_bank.head()"
   ]
  },
  {
   "cell_type": "markdown",
   "id": "5ae732a4",
   "metadata": {},
   "source": [
    "The long term average interest rate is of 4.10% and bank lending Rate in Portugal averaged 4.96%.The difference between the long-term average interest rate and lending rate is (.86%).\n",
    "\n",
    "***\n",
    "(Source:https://ycharts.com/indicators/portugal_long_term_interest_rates\n",
    "https://tradingeconomics.com/portugal/bank-lending-rate)\n",
    "***"
   ]
  },
  {
   "cell_type": "code",
   "execution_count": 97,
   "id": "a7f5d1ea",
   "metadata": {},
   "outputs": [
    {
     "data": {
      "text/plain": [
       "15.5944975102921"
      ]
     },
     "execution_count": 97,
     "metadata": {},
     "output_type": "execute_result"
    }
   ],
   "source": [
    "#I multiplied the difference between the long-term average interest rate and lending rate (.86%) and the mean balance from the subscribers. \n",
    "\n",
    "revenue_per_subs = 0.0086 * one_year_bank[one_year_bank['subscription']==1]['balance'].mean()\n",
    "revenue_per_subs"
   ]
  },
  {
   "cell_type": "markdown",
   "id": "57967dcf",
   "metadata": {},
   "source": [
    "#### Calculate Cost Per Subscription<a id='Calculate_Cost_Per_Subscription'></a>"
   ]
  },
  {
   "cell_type": "code",
   "execution_count": 85,
   "id": "98c54158",
   "metadata": {},
   "outputs": [
    {
     "data": {
      "text/plain": [
       "0    0.06\n",
       "1    0.06\n",
       "2    0.06\n",
       "3    0.13\n",
       "4    0.24\n",
       "Name: duration, dtype: float64"
      ]
     },
     "execution_count": 85,
     "metadata": {},
     "output_type": "execute_result"
    }
   ],
   "source": [
    "#Turn duration seconds to minutes\n",
    "bank_cleaned['duration'] = bank_cleaned['duration'].apply(lambda n:n/60).round(2)\n",
    "bank_cleaned['duration'].head()"
   ]
  },
  {
   "cell_type": "code",
   "execution_count": 86,
   "id": "914e5e67",
   "metadata": {},
   "outputs": [
    {
     "data": {
      "text/plain": [
       "month_num\n",
       "1     6247.49\n",
       "2    10873.46\n",
       "3     1916.86\n",
       "4    14445.30\n",
       "5    58627.83\n",
       "Name: duration, dtype: float64"
      ]
     },
     "execution_count": 86,
     "metadata": {},
     "output_type": "execute_result"
    }
   ],
   "source": [
    "#Calcuate the call duration for each month\n",
    "one_month_duration = one_year_bank.groupby('month_num')['duration'].sum()\n",
    "one_month_duration.head()"
   ]
  },
  {
   "cell_type": "code",
   "execution_count": 87,
   "id": "95c9c3e8",
   "metadata": {},
   "outputs": [
    {
     "data": {
      "text/plain": [
       "count       12.000000\n",
       "mean     15983.408333\n",
       "std      16515.615759\n",
       "min       1154.930000\n",
       "25%       3205.457500\n",
       "50%      12659.380000\n",
       "75%      22082.270000\n",
       "max      58627.830000\n",
       "Name: duration, dtype: float64"
      ]
     },
     "execution_count": 87,
     "metadata": {},
     "output_type": "execute_result"
    }
   ],
   "source": [
    "#Find out the median call duration per month to figure out which call center\n",
    "#plan fits the needs\n",
    "one_month_duration.describe()"
   ]
  },
  {
   "cell_type": "markdown",
   "id": "f332ef70",
   "metadata": {},
   "source": [
    "To calculate the cost, I found different call center pricing packages on the website www.sascallcenter.com.The bank's median call duration within one year is above 10,000 minutes, so that we can use the package of $0.89/min. "
   ]
  },
  {
   "cell_type": "code",
   "execution_count": 88,
   "id": "9451b0a8",
   "metadata": {},
   "outputs": [
    {
     "data": {
      "text/plain": [
       "2.67"
      ]
     },
     "execution_count": 88,
     "metadata": {},
     "output_type": "execute_result"
    }
   ],
   "source": [
    "#Calculate the cost per call\n",
    "cost_per_call = 0.89 * one_year_bank['duration'].median()\n",
    "cost_per_call "
   ]
  },
  {
   "cell_type": "markdown",
   "id": "b5d7767d",
   "metadata": {},
   "source": [
    "#### Calculate Profitability Vs. Threshold <a id='Calculate_Profitability_Threshold'></a>"
   ]
  },
  {
   "cell_type": "code",
   "execution_count": 89,
   "id": "b58015eb",
   "metadata": {},
   "outputs": [],
   "source": [
    "#Create profitability function\n",
    "def Profitability(ylabel, pred_proba, thresholds):\n",
    "\n",
    "    pred_proba = pred_proba >= thresholds\n",
    "    matrix = confusion_matrix(ylabel, pred_proba)\n",
    "   \n",
    "    tn = matrix[0,0]\n",
    "    tp = matrix[1,1]\n",
    "    fp = matrix[0,1]\n",
    "    fn = matrix[1,0]\n",
    " \n",
    "    Revenue = tp * revenue_per_subs\n",
    "    Cost = cost_per_call* (tp + fp)\n",
    "    profit = Revenue - Cost\n",
    "    \n",
    "    return([Revenue, Cost, profit])\n",
    "\n",
    "#Create a dataframe 'Profitability Vs. threshold'\n",
    "threshold_df = pd.DataFrame(columns=['Revenue','Cost','profit'])\n",
    "y_pred_proba = GBModel_10.best_estimator_.predict_proba(X_GB_10)[:,1] \n",
    "for threshold in np.arange(0, 1, 0.01):\n",
    "    threshold_df.loc[threshold] = Profitability(ylr, y_pred_proba, threshold)\n",
    "    \n",
    "#Find out the best threshild for maximum profitability    \n",
    "best_thresh = threshold_df[threshold_df['profit'] == threshold_df['profit'].max()].index[0]\n"
   ]
  },
  {
   "cell_type": "code",
   "execution_count": 91,
   "id": "292683ec",
   "metadata": {},
   "outputs": [
    {
     "data": {
      "text/plain": [
       "0.18"
      ]
     },
     "execution_count": 91,
     "metadata": {},
     "output_type": "execute_result"
    }
   ],
   "source": [
    "best_thresh"
   ]
  },
  {
   "cell_type": "code",
   "execution_count": 94,
   "id": "46785bff",
   "metadata": {},
   "outputs": [
    {
     "data": {
      "text/plain": [
       "Text(0.16, 0.57, 'Optimal Threshold 0.18')"
      ]
     },
     "execution_count": 94,
     "metadata": {},
     "output_type": "execute_result"
    },
    {
     "data": {
      "image/png": "[encoded data removed]",
      "text/plain": [
       "<Figure size 1500x900 with 1 Axes>"
      ]
     },
     "metadata": {},
     "output_type": "display_data"
    }
   ],
   "source": [
    "#Plot Profitability vs. Threshold\n",
    "ax = threshold_df.plot(y=['Revenue', 'Cost', 'profit'],figsize=(15,9))\n",
    "ax.set_xlabel('Threshold')\n",
    "ax.set_ylabel('in US Dollars')\n",
    "ax.set_title('Profitability vs. Threshold')\n",
    "ax.axvline(best_thresh, color='black', alpha=0.3)\n",
    "ax.text(0.16,.57,'Optimal Threshold 0.18',rotation=90, alpha=0.8, fontsize=16)\n"
   ]
  },
  {
   "cell_type": "code",
   "execution_count": 95,
   "id": "2bbdaa77",
   "metadata": {},
   "outputs": [
    {
     "data": {
      "text/plain": [
       "Revenue    35649.021309\n",
       "Cost       12169.860000\n",
       "profit     23479.161309\n",
       "Name: 0.18, dtype: float64"
      ]
     },
     "execution_count": 95,
     "metadata": {},
     "output_type": "execute_result"
    }
   ],
   "source": [
    "#Calculate the maximum profit\n",
    "threshold_df.loc[0.18]"
   ]
  },
  {
   "cell_type": "code",
   "execution_count": 96,
   "id": "f16f0ae1",
   "metadata": {},
   "outputs": [
    {
     "data": {
      "text/plain": [
       "0.13442651959772317"
      ]
     },
     "execution_count": 96,
     "metadata": {},
     "output_type": "execute_result"
    }
   ],
   "source": [
    "#Bank only needs to call 13% of the customers to reach the maximum profit\n",
    "(y_pred_proba >=.18).mean()"
   ]
  },
  {
   "cell_type": "markdown",
   "id": "239dff97",
   "metadata": {},
   "source": [
    "The optimal threshold is 0.18. It has an AUC value of 0.826 in distinguishing between the positive and negative classes. Since the dataset is highly imbalanced, I used the predict_probability >= threshold in the classification report and confusion matrix to handle the imbalanced data."
   ]
  },
  {
   "cell_type": "markdown",
   "id": "4eac7b16",
   "metadata": {},
   "source": [
    "### Test Data<a id='Test_Data'></a>"
   ]
  },
  {
   "cell_type": "markdown",
   "id": "9cf70a86",
   "metadata": {},
   "source": [
    "#### Calcuate ROC AUC Score <a id='Calcuate_ROC_AUC_Score'></a>"
   ]
  },
  {
   "cell_type": "code",
   "execution_count": 101,
   "id": "9532d64f",
   "metadata": {},
   "outputs": [
    {
     "data": {
      "text/plain": [
       "0.78479602924831"
      ]
     },
     "execution_count": 101,
     "metadata": {},
     "output_type": "execute_result"
    }
   ],
   "source": [
    "X_test = Xtest[gb_feature_10]\n",
    "GBModel_10.score(X_test,ytest)"
   ]
  },
  {
   "cell_type": "markdown",
   "id": "145e588d",
   "metadata": {},
   "source": [
    "The test set has a lower Roc score at 0.785 instead of 0.826 with the training set. "
   ]
  },
  {
   "cell_type": "markdown",
   "id": "7a5b1e59",
   "metadata": {},
   "source": [
    "#### Classification Report <a id='Classification_Report'></a>"
   ]
  },
  {
   "cell_type": "code",
   "execution_count": 103,
   "id": "cd957c2a",
   "metadata": {},
   "outputs": [
    {
     "name": "stdout",
     "output_type": "stream",
     "text": [
      "              precision    recall  f1-score   support\n",
      "\n",
      "           0       0.93      0.92      0.92      9981\n",
      "           1       0.45      0.51      0.48      1322\n",
      "\n",
      "    accuracy                           0.87     11303\n",
      "   macro avg       0.69      0.71      0.70     11303\n",
      "weighted avg       0.88      0.87      0.87     11303\n",
      "\n"
     ]
    }
   ],
   "source": [
    "ytest_pred_proba = GBModel_10.best_estimator_.predict_proba(X_test)[:,1] \n",
    "print(classification_report(ytest,ytest_pred_proba>=0.18))"
   ]
  },
  {
   "cell_type": "markdown",
   "id": "895b52f6",
   "metadata": {},
   "source": [
    "If the bank called customers based on the model prediction results, it would increase the conversion rates from 12% to 45%. In other words, without using the model, 1 out of 8 clients (class 1 percent of the whole dataset is 0.117 ) will subscribe, whereas now,  one out of every two to three clients will do so. (precision score for class1 is 0.45)\n"
   ]
  },
  {
   "cell_type": "markdown",
   "id": "e2e698b9",
   "metadata": {},
   "source": [
    "#### Confusion Matrix<a id='Confusion_Matrix'></a>"
   ]
  },
  {
   "cell_type": "code",
   "execution_count": 104,
   "id": "b4d8c7b7",
   "metadata": {},
   "outputs": [
    {
     "data": {
      "text/plain": [
       "<sklearn.metrics._plot.confusion_matrix.ConfusionMatrixDisplay at 0x7ff83d7c79d0>"
      ]
     },
     "execution_count": 104,
     "metadata": {},
     "output_type": "execute_result"
    },
    {
     "data": {
      "image/png": "[encoded data removed]",
      "text/plain": [
       "<Figure size 640x480 with 2 Axes>"
      ]
     },
     "metadata": {},
     "output_type": "display_data"
    }
   ],
   "source": [
    "cm_rf_test = confusion_matrix(ytest, ytest_pred_proba>=0.18)\n",
    "percent_cm_rf_test = cm_rf_test/cm_rf_test.sum()\n",
    "_, ax = plt.subplots()\n",
    "display_percent_cm_rf_test = ConfusionMatrixDisplay(confusion_matrix = percent_cm_rf_test, \n",
    "                                    display_labels = ['no subscription', 'subscription'])\n",
    "\n",
    "ax.set_xticklabels(labels = ['no subscription', 'subscription'], fontsize = 8)\n",
    "ax.set_yticklabels(labels = ['no subscription', 'subscription'], fontsize = 8)\n",
    "display_percent_cm_rf_test.plot(ax = ax)"
   ]
  },
  {
   "cell_type": "markdown",
   "id": "a7e07557",
   "metadata": {},
   "source": [
    "### Modeling Scenarios<a id='Modeling_Scenarios'></a>"
   ]
  },
  {
   "cell_type": "markdown",
   "id": "80aab096",
   "metadata": {},
   "source": [
    "#### GB Model<a id='GB_Model'></a> "
   ]
  },
  {
   "cell_type": "markdown",
   "id": "686146c2",
   "metadata": {},
   "source": [
    "Bank calls customers according to the GB model predictions."
   ]
  },
  {
   "cell_type": "code",
   "execution_count": 113,
   "id": "07058a88",
   "metadata": {},
   "outputs": [
    {
     "data": {
      "text/plain": [
       "0.1340352118906485"
      ]
     },
     "execution_count": 113,
     "metadata": {},
     "output_type": "execute_result"
    }
   ],
   "source": [
    "#What's the percentage of the customers the bank needs to call?\n",
    "(ytest_pred_proba >=.18).mean()"
   ]
  },
  {
   "cell_type": "code",
   "execution_count": 115,
   "id": "e81f3fb2",
   "metadata": {},
   "outputs": [
    {
     "data": {
      "text/plain": [
       "6481.235819447169"
      ]
     },
     "execution_count": 115,
     "metadata": {},
     "output_type": "execute_result"
    }
   ],
   "source": [
    "#Calculate the revune, cost and profit\n",
    "Revenue, Cost, profit = Profitability(ytest, ytest_pred_proba, 0.18)\n",
    "profit"
   ]
  },
  {
   "cell_type": "markdown",
   "id": "9fb5280f",
   "metadata": {},
   "source": [
    "#### Scenario 1<a id='Scenario_1'></a> "
   ]
  },
  {
   "cell_type": "markdown",
   "id": "90fd3561",
   "metadata": {},
   "source": [
    "Bank calls customers in the age group of >60 and < 30.\n"
   ]
  },
  {
   "cell_type": "code",
   "execution_count": 105,
   "id": "01273154",
   "metadata": {},
   "outputs": [
    {
     "data": {
      "text/plain": [
       "6023     0\n",
       "18268    0\n",
       "41176    1\n",
       "22430    0\n",
       "17321    0\n",
       "        ..\n",
       "961      1\n",
       "28223    0\n",
       "11107    0\n",
       "32384    0\n",
       "43689    1\n",
       "Length: 11303, dtype: uint8"
      ]
     },
     "execution_count": 105,
     "metadata": {},
     "output_type": "execute_result"
    }
   ],
   "source": [
    "age_group = Xtest['age_group_>60'] + Xtest['age_group_<30']\n",
    "age_group"
   ]
  },
  {
   "cell_type": "code",
   "execution_count": 106,
   "id": "5f02d6dd",
   "metadata": {},
   "outputs": [
    {
     "data": {
      "text/plain": [
       "0.17756347872246306"
      ]
     },
     "execution_count": 106,
     "metadata": {},
     "output_type": "execute_result"
    }
   ],
   "source": [
    "#What's the percentage of the customers the bank needs to call?\n",
    "len(age_group[age_group ==1])/len(Xtest)"
   ]
  },
  {
   "cell_type": "code",
   "execution_count": 108,
   "id": "3d70d3ec",
   "metadata": {},
   "outputs": [
    {
     "data": {
      "text/plain": [
       "910.297999137425"
      ]
     },
     "execution_count": 108,
     "metadata": {},
     "output_type": "execute_result"
    }
   ],
   "source": [
    "#Check tp and fp if bank called customers in the age group of >60 and < 30.\n",
    "matrix_age_group = confusion_matrix(ytest, age_group)\n",
    "tp_age_group = matrix_age_group[1,1]\n",
    "fp_age_group = matrix_age_group[0,1]\n",
    "\n",
    "#Calculate the revune, cost and profit\n",
    "Revenue_age_group = tp_age_group * revenue_per_subs\n",
    "Cost_age_group = cost_per_call* (tp_age_group + fp_age_group)\n",
    "profit_age_group = Revenue_age_group - Cost_age_group\n",
    "profit_age_group"
   ]
  },
  {
   "cell_type": "markdown",
   "id": "677d5b91",
   "metadata": {},
   "source": [
    "#### Scenario 2 <a id='Scenario_2'></a> "
   ]
  },
  {
   "cell_type": "markdown",
   "id": "ef96e1a4",
   "metadata": {},
   "source": [
    "Bank calls customers with tertiary education."
   ]
  },
  {
   "cell_type": "code",
   "execution_count": 109,
   "id": "36c3e290",
   "metadata": {},
   "outputs": [
    {
     "data": {
      "text/plain": [
       "6023     1\n",
       "18268    0\n",
       "41176    1\n",
       "22430    0\n",
       "17321    1\n",
       "        ..\n",
       "961      0\n",
       "28223    0\n",
       "11107    0\n",
       "32384    1\n",
       "43689    0\n",
       "Name: education_tertiary, Length: 11303, dtype: uint8"
      ]
     },
     "execution_count": 109,
     "metadata": {},
     "output_type": "execute_result"
    }
   ],
   "source": [
    "education_tertiary = Xtest['education_tertiary']\n",
    "education_tertiary"
   ]
  },
  {
   "cell_type": "code",
   "execution_count": 110,
   "id": "f42c99fe",
   "metadata": {},
   "outputs": [
    {
     "data": {
      "text/plain": [
       "0.2923117756347872"
      ]
     },
     "execution_count": 110,
     "metadata": {},
     "output_type": "execute_result"
    }
   ],
   "source": [
    "#What's the percentage of the customers the bank needs to call?\n",
    "len(education_tertiary[education_tertiary ==1])/len(Xtest)"
   ]
  },
  {
   "cell_type": "code",
   "execution_count": 111,
   "id": "0393bf35",
   "metadata": {},
   "outputs": [
    {
     "data": {
      "text/plain": [
       "-1211.565214977455"
      ]
     },
     "execution_count": 111,
     "metadata": {},
     "output_type": "execute_result"
    }
   ],
   "source": [
    "#Check tp and fp if bank called customers in the age group of >60 and < 30.\n",
    "\n",
    "y_pred_n_tertiary = Xtest['education_tertiary'] == 1\n",
    "matrix_n_tertiary = confusion_matrix(ytest, y_pred_n_tertiary)\n",
    "\n",
    "tp_n_tertiary = matrix_n_tertiary[1,1]\n",
    "fp_n_tertiary = matrix_n_tertiary[0,1]\n",
    "\n",
    "#Calculate the revune, cost and profit\n",
    "Revenue_n_tertiary = tp_n_tertiary * revenue_per_subs\n",
    "Cost_n_tertiary = cost_per_call* (tp_n_tertiary + fp_n_tertiary)\n",
    "profit_n_tertiary = Revenue_n_tertiary - Cost_n_tertiary\n",
    "\n",
    "profit_n_tertiary"
   ]
  },
  {
   "cell_type": "markdown",
   "id": "3fda51eb",
   "metadata": {},
   "source": [
    "#### Scenario 3<a id='Scenario_3'></a> "
   ]
  },
  {
   "cell_type": "markdown",
   "id": "9c5636dd",
   "metadata": {},
   "source": [
    "Bank calls all the customers."
   ]
  },
  {
   "cell_type": "code",
   "execution_count": 112,
   "id": "ae50e697",
   "metadata": {},
   "outputs": [
    {
     "data": {
      "text/plain": [
       "-9563.084291393843"
      ]
     },
     "execution_count": 112,
     "metadata": {},
     "output_type": "execute_result"
    }
   ],
   "source": [
    "#Calculate the revune, cost and profit\n",
    "bank_revenue_all = revenue_per_subs * len(ytest[ytest ==1].index)\n",
    "profit_call_all = bank_revenue_all - cost_per_call * len(ytest.index)\n",
    "profit_call_all"
   ]
  },
  {
   "cell_type": "markdown",
   "id": "2cb6fdab",
   "metadata": {},
   "source": [
    "### Plot and Summary<a id='Plot_and_Summary'></a> "
   ]
  },
  {
   "cell_type": "code",
   "execution_count": 116,
   "id": "a5f15e0e",
   "metadata": {},
   "outputs": [
    {
     "data": {
      "text/html": [
       "<div>\n",
       "<style scoped>\n",
       "    .dataframe tbody tr th:only-of-type {\n",
       "        vertical-align: middle;\n",
       "    }\n",
       "\n",
       "    .dataframe tbody tr th {\n",
       "        vertical-align: top;\n",
       "    }\n",
       "\n",
       "    .dataframe thead th {\n",
       "        text-align: right;\n",
       "    }\n",
       "</style>\n",
       "<table border=\"1\" class=\"dataframe\">\n",
       "  <thead>\n",
       "    <tr style=\"text-align: right;\">\n",
       "      <th></th>\n",
       "      <th>% customers to call</th>\n",
       "      <th>profit</th>\n",
       "    </tr>\n",
       "  </thead>\n",
       "  <tbody>\n",
       "    <tr>\n",
       "      <th>GB Model</th>\n",
       "      <td>0.13</td>\n",
       "      <td>6481</td>\n",
       "    </tr>\n",
       "    <tr>\n",
       "      <th>Scenario 1</th>\n",
       "      <td>0.17</td>\n",
       "      <td>910</td>\n",
       "    </tr>\n",
       "    <tr>\n",
       "      <th>Scenario 2</th>\n",
       "      <td>0.29</td>\n",
       "      <td>-1211</td>\n",
       "    </tr>\n",
       "    <tr>\n",
       "      <th>Scenario 3</th>\n",
       "      <td>1.00</td>\n",
       "      <td>-9563</td>\n",
       "    </tr>\n",
       "  </tbody>\n",
       "</table>\n",
       "</div>"
      ],
      "text/plain": [
       "            % customers to call  profit\n",
       "GB Model                   0.13    6481\n",
       "Scenario 1                 0.17     910\n",
       "Scenario 2                 0.29   -1211\n",
       "Scenario 3                 1.00   -9563"
      ]
     },
     "execution_count": 116,
     "metadata": {},
     "output_type": "execute_result"
    }
   ],
   "source": [
    "data = {'% customers to call': [0.13,0.17,0.29,1],\n",
    "        'profit': [6481,910,-1211,-9563]}\n",
    " \n",
    "# Creates pandas DataFrame.\n",
    "df = pd.DataFrame(data, index=['GB Model',\n",
    "                               'Scenario 1',\n",
    "                               'Scenario 2',\n",
    "                               'Scenario 3'])\n",
    "df"
   ]
  },
  {
   "cell_type": "code",
   "execution_count": 122,
   "id": "3959ec9e",
   "metadata": {
    "scrolled": true
   },
   "outputs": [
    {
     "data": {
      "image/png": "[encoded data removed]",
      "text/plain": [
       "<Figure size 900x600 with 2 Axes>"
      ]
     },
     "metadata": {},
     "output_type": "display_data"
    }
   ],
   "source": [
    "#Plot the dataframe to compare the ratio of client calls and the yielding profit \n",
    "fig, ax = plt.subplots()\n",
    "\n",
    "fig.set_size_inches(9,6)\n",
    "fontsize = 15\n",
    "\n",
    "ax.bar(df.index, df['% customers to call'],\n",
    "                    alpha=0.6)\n",
    "\n",
    "ax.set_ylabel('% Customers to call')\n",
    "ax.set_xlabel('Different scenarios')\n",
    "\n",
    "        \n",
    "ax2 = plt.twinx()\n",
    "ax2.plot(df.index, df['profit'], marker='*', color= 'green',alpha=0.6)\n",
    "#line = ax.lines[0]\n",
    "ax2.set_ylabel('profit')\n",
    "#ax2.grid(False)\n",
    "        \n",
    "        \n",
    "fig.legend(labels=('% customers to call','profit'),loc='upper right',bbox_to_anchor=(1.1,1.1),\n",
    "                   bbox_transform=ax.transAxes,fancybox=True, framealpha=0.2)\n",
    "sns.despine(left=True,bottom=True,)\n",
    "plt.grid(axis = 'y')\n",
    "plt.show();\n"
   ]
  },
  {
   "cell_type": "markdown",
   "id": "16c6d9db",
   "metadata": {},
   "source": [
    "How might this model be helpful? In order to determine the answer to this question, I developed three different strategies that the bank might use to determine which customers to call to compare to the strategy of using the output of the Gradient Boosting model I developed. \n",
    "\n",
    "Then, I calculated the profitability of each of these scenarios (as well as the % of customer calls needed) and displayed the results in the chart above.\n",
    "\n",
    "As we can see, scenarios 2 and 3 are actually losing money with a negative profit, while scenario 1 has a profit of 900. However, the GB model skyrockets the profit to $6481, a 600% increase over the only other profitable strategy. \n",
    "\n",
    "From a customer conversion perspective, we can see that using the model would increase the conversion rates from 12% to 45%. In other words, without using the model, 1 out of 8 clients (class 1 percent of the whole dataset is 0.117 ) will subscribe, whereas now, one out of every two to three clients will do so. (precision score for class1 is 0.45)"
   ]
  },
  {
   "cell_type": "markdown",
   "id": "d1df350b",
   "metadata": {},
   "source": [
    "### Future Work<a id='Future_Work'></a> "
   ]
  },
  {
   "cell_type": "markdown",
   "id": "5a183a6c",
   "metadata": {},
   "source": [
    "For future work, increasing the size of the training set, especially across multiple years, would be recommended, as well as including various demographic information such as race, ethnicity, gender, and location. "
   ]
  }
 ],
 "metadata": {
  "kernelspec": {
   "display_name": "Python 3 (ipykernel)",
   "language": "python",
   "name": "python3"
  },
  "language_info": {
   "codemirror_mode": {
    "name": "ipython",
    "version": 3
   },
   "file_extension": ".py",
   "mimetype": "text/x-python",
   "name": "python",
   "nbconvert_exporter": "python",
   "pygments_lexer": "ipython3",
   "version": "3.7.4"
  }
 },
 "nbformat": 4,
 "nbformat_minor": 5
}
